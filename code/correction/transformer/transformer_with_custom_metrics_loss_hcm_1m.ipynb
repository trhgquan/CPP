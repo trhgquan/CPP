{
  "cells": [
    {
      "cell_type": "markdown",
      "metadata": {
        "id": "view-in-github",
        "colab_type": "text"
      },
      "source": [
        "<a href=\"https://colab.research.google.com/github/trhgquan/CPP/blob/master/code/correction/transformer/transformer_with_custom_metrics_loss_hcm_1m.ipynb\" target=\"_parent\"><img src=\"https://colab.research.google.com/assets/colab-badge.svg\" alt=\"Open In Colab\"/></a>"
      ]
    },
    {
      "cell_type": "code",
      "execution_count": null,
      "id": "658b2fda",
      "metadata": {
        "execution": {
          "iopub.execute_input": "2022-09-25T07:11:11.749041Z",
          "iopub.status.busy": "2022-09-25T07:11:11.748299Z",
          "iopub.status.idle": "2022-09-25T07:12:26.308956Z",
          "shell.execute_reply": "2022-09-25T07:12:26.307760Z"
        },
        "id": "658b2fda",
        "outputId": "4d5cabaf-6b51-44c1-f0f6-f2f532632b98",
        "papermill": {
          "duration": 74.575872,
          "end_time": "2022-09-25T07:12:26.311762",
          "exception": false,
          "start_time": "2022-09-25T07:11:11.735890",
          "status": "completed"
        },
        "tags": []
      },
      "outputs": [
        {
          "name": "stdout",
          "output_type": "stream",
          "text": [
            "\u001b[31mERROR: pip's dependency resolver does not currently take into account all the packages that are installed. This behaviour is the source of the following dependency conflicts.\r\n",
            "tensorflow-transform 1.9.0 requires tensorflow!=2.0.*,!=2.1.*,!=2.2.*,!=2.3.*,!=2.4.*,!=2.5.*,!=2.6.*,!=2.7.*,!=2.8.*,<2.10,>=1.15.5, but you have tensorflow 2.10.0 which is incompatible.\r\n",
            "tensorflow-io 0.21.0 requires tensorflow<2.7.0,>=2.6.0, but you have tensorflow 2.10.0 which is incompatible.\r\n",
            "tensorflow-io 0.21.0 requires tensorflow-io-gcs-filesystem==0.21.0, but you have tensorflow-io-gcs-filesystem 0.27.0 which is incompatible.\r\n",
            "flax 0.6.0 requires rich~=11.1, but you have rich 12.1.0 which is incompatible.\u001b[0m\u001b[31m\r\n",
            "\u001b[0m\u001b[33mWARNING: Running pip as the 'root' user can result in broken permissions and conflicting behaviour with the system package manager. It is recommended to use a virtual environment instead: https://pip.pypa.io/warnings/venv\u001b[0m\u001b[33m\r\n",
            "\u001b[0m"
          ]
        }
      ],
      "source": [
        "!pip install -q tensorflow==2.10.*"
      ]
    },
    {
      "cell_type": "code",
      "execution_count": null,
      "id": "bcfaff01",
      "metadata": {
        "execution": {
          "iopub.execute_input": "2022-09-25T07:12:26.334895Z",
          "iopub.status.busy": "2022-09-25T07:12:26.334595Z",
          "iopub.status.idle": "2022-09-25T07:12:26.349739Z",
          "shell.execute_reply": "2022-09-25T07:12:26.348892Z"
        },
        "id": "bcfaff01",
        "papermill": {
          "duration": 0.029812,
          "end_time": "2022-09-25T07:12:26.351709",
          "exception": false,
          "start_time": "2022-09-25T07:12:26.321897",
          "status": "completed"
        },
        "tags": []
      },
      "outputs": [],
      "source": [
        "%load_ext tensorboard"
      ]
    },
    {
      "cell_type": "code",
      "execution_count": null,
      "id": "cd5cea69",
      "metadata": {
        "execution": {
          "iopub.execute_input": "2022-09-25T07:12:26.372798Z",
          "iopub.status.busy": "2022-09-25T07:12:26.371755Z",
          "iopub.status.idle": "2022-09-25T07:12:30.742153Z",
          "shell.execute_reply": "2022-09-25T07:12:30.741200Z"
        },
        "id": "cd5cea69",
        "papermill": {
          "duration": 4.383561,
          "end_time": "2022-09-25T07:12:30.744791",
          "exception": false,
          "start_time": "2022-09-25T07:12:26.361230",
          "status": "completed"
        },
        "tags": [],
        "outputId": "ff85dab1-9f94-4291-ed3f-d541e772efd7"
      },
      "outputs": [
        {
          "name": "stderr",
          "output_type": "stream",
          "text": [
            "2022-09-25 07:12:27.245951: I tensorflow/core/platform/cpu_feature_guard.cc:193] This TensorFlow binary is optimized with oneAPI Deep Neural Network Library (oneDNN) to use the following CPU instructions in performance-critical operations:  AVX2 AVX512F FMA\n",
            "To enable them in other operations, rebuild TensorFlow with the appropriate compiler flags.\n",
            "2022-09-25 07:12:27.414235: E tensorflow/stream_executor/cuda/cuda_blas.cc:2981] Unable to register cuBLAS factory: Attempting to register factory for plugin cuBLAS when one has already been registered\n",
            "2022-09-25 07:12:28.308964: W tensorflow/stream_executor/platform/default/dso_loader.cc:64] Could not load dynamic library 'libnvinfer.so.7'; dlerror: libnvinfer.so.7: cannot open shared object file: No such file or directory; LD_LIBRARY_PATH: /usr/local/cuda/lib64:/usr/local/cuda/lib:/usr/local/lib/x86_64-linux-gnu:/usr/local/nvidia/lib:/usr/local/nvidia/lib64:/usr/local/cuda/lib64:/usr/local/cuda/lib:/usr/local/lib/x86_64-linux-gnu:/usr/local/nvidia/lib:/usr/local/nvidia/lib64:/usr/local/nvidia/lib:/usr/local/nvidia/lib64\n",
            "2022-09-25 07:12:28.309220: W tensorflow/stream_executor/platform/default/dso_loader.cc:64] Could not load dynamic library 'libnvinfer_plugin.so.7'; dlerror: libnvinfer_plugin.so.7: cannot open shared object file: No such file or directory; LD_LIBRARY_PATH: /usr/local/cuda/lib64:/usr/local/cuda/lib:/usr/local/lib/x86_64-linux-gnu:/usr/local/nvidia/lib:/usr/local/nvidia/lib64:/usr/local/cuda/lib64:/usr/local/cuda/lib:/usr/local/lib/x86_64-linux-gnu:/usr/local/nvidia/lib:/usr/local/nvidia/lib64:/usr/local/nvidia/lib:/usr/local/nvidia/lib64\n",
            "2022-09-25 07:12:28.309238: W tensorflow/compiler/tf2tensorrt/utils/py_utils.cc:38] TF-TRT Warning: Cannot dlopen some TensorRT libraries. If you would like to use Nvidia GPU with TensorRT, please make sure the missing libraries mentioned above are installed properly.\n"
          ]
        }
      ],
      "source": [
        "import pandas as pd\n",
        "import numpy as np\n",
        "import matplotlib.pyplot as plt\n",
        "import os\n",
        "import seaborn as sns\n",
        "import tensorflow as tf\n",
        "import pickle as pkl\n",
        "from tqdm import tqdm\n",
        "from sklearn.model_selection import train_test_split\n",
        "from tensorflow.keras.preprocessing.text import Tokenizer\n",
        "from tensorflow.keras.preprocessing.sequence import pad_sequences\n",
        "from tensorflow.keras import layers, Model\n",
        "from tensorflow.keras.utils import plot_model\n",
        "\n",
        "import logging \n",
        "import time\n",
        "\n",
        "seed = 42"
      ]
    },
    {
      "cell_type": "code",
      "execution_count": null,
      "id": "ebec9d8e",
      "metadata": {
        "execution": {
          "iopub.execute_input": "2022-09-25T07:12:30.767055Z",
          "iopub.status.busy": "2022-09-25T07:12:30.766541Z",
          "iopub.status.idle": "2022-09-25T07:12:31.755594Z",
          "shell.execute_reply": "2022-09-25T07:12:31.754616Z"
        },
        "id": "ebec9d8e",
        "outputId": "54e23eaf-a79f-4252-a507-35873a05dafa",
        "papermill": {
          "duration": 1.003357,
          "end_time": "2022-09-25T07:12:31.758437",
          "exception": false,
          "start_time": "2022-09-25T07:12:30.755080",
          "status": "completed"
        },
        "tags": []
      },
      "outputs": [
        {
          "name": "stdout",
          "output_type": "stream",
          "text": [
            "__notebook__.ipynb\r\n"
          ]
        }
      ],
      "source": [
        "ls"
      ]
    },
    {
      "cell_type": "code",
      "execution_count": null,
      "id": "6a96c0a5",
      "metadata": {
        "execution": {
          "iopub.execute_input": "2022-09-25T07:12:31.792266Z",
          "iopub.status.busy": "2022-09-25T07:12:31.791896Z",
          "iopub.status.idle": "2022-09-25T07:12:31.799526Z",
          "shell.execute_reply": "2022-09-25T07:12:31.798617Z"
        },
        "id": "6a96c0a5",
        "outputId": "858cee02-5ce5-488f-bd10-00d113cbd611",
        "papermill": {
          "duration": 0.027228,
          "end_time": "2022-09-25T07:12:31.801891",
          "exception": false,
          "start_time": "2022-09-25T07:12:31.774663",
          "status": "completed"
        },
        "tags": []
      },
      "outputs": [
        {
          "name": "stdout",
          "output_type": "stream",
          "text": [
            "/kaggle/input\n"
          ]
        }
      ],
      "source": [
        "root = '/kaggle/input'\n",
        "%cd $root"
      ]
    },
    {
      "cell_type": "code",
      "execution_count": null,
      "id": "fcbc2da0",
      "metadata": {
        "execution": {
          "iopub.execute_input": "2022-09-25T07:12:31.831145Z",
          "iopub.status.busy": "2022-09-25T07:12:31.830921Z",
          "iopub.status.idle": "2022-09-25T07:12:35.401250Z",
          "shell.execute_reply": "2022-09-25T07:12:35.400333Z"
        },
        "id": "fcbc2da0",
        "outputId": "79ba8318-5bb4-4f01-babc-2af79de2f39f",
        "papermill": {
          "duration": 3.587307,
          "end_time": "2022-09-25T07:12:35.403434",
          "exception": false,
          "start_time": "2022-09-25T07:12:31.816127",
          "status": "completed"
        },
        "tags": []
      },
      "outputs": [
        {
          "data": {
            "text/html": [
              "<div>\n",
              "<style scoped>\n",
              "    .dataframe tbody tr th:only-of-type {\n",
              "        vertical-align: middle;\n",
              "    }\n",
              "\n",
              "    .dataframe tbody tr th {\n",
              "        vertical-align: top;\n",
              "    }\n",
              "\n",
              "    .dataframe thead th {\n",
              "        text-align: right;\n",
              "    }\n",
              "</style>\n",
              "<table border=\"1\" class=\"dataframe\">\n",
              "  <thead>\n",
              "    <tr style=\"text-align: right;\">\n",
              "      <th></th>\n",
              "      <th>human_input</th>\n",
              "      <th>address</th>\n",
              "    </tr>\n",
              "  </thead>\n",
              "  <tbody>\n",
              "    <tr>\n",
              "      <th>0</th>\n",
              "      <td>176 Tỉnh Lộ 15 Xã Tân Thạnh Đông Huyện Củ Chi ...</td>\n",
              "      <td>176 Tỉnh Lộ 15 Xã Tân Thạnh Đông Huyện Củ Chi ...</td>\n",
              "    </tr>\n",
              "    <tr>\n",
              "      <th>1</th>\n",
              "      <td>176 Tỉnh Lộ 15 Xã Tân Thạnh Đông Huyện Củ Chi ...</td>\n",
              "      <td>176 Tỉnh Lộ 15 Xã Tân Thạnh Đông Huyện Củ Chi ...</td>\n",
              "    </tr>\n",
              "    <tr>\n",
              "      <th>2</th>\n",
              "      <td>176 Tỉnh Lộ 115 Xã Tân Thạnh Đông Huyện Củ Chi...</td>\n",
              "      <td>176 Tỉnh Lộ 15 Xã Tân Thạnh Đông Huyện Củ Chi ...</td>\n",
              "    </tr>\n",
              "    <tr>\n",
              "      <th>3</th>\n",
              "      <td>176 Tỉnh Lộ 15 Xẫ Tân Thạnh Đông Huyện Củ Chi ...</td>\n",
              "      <td>176 Tỉnh Lộ 15 Xã Tân Thạnh Đông Huyện Củ Chi ...</td>\n",
              "    </tr>\n",
              "    <tr>\n",
              "      <th>4</th>\n",
              "      <td>176 Tỉnh Lị6 15 Xã Tân Thạnh Đông Huyện Củ Chi...</td>\n",
              "      <td>176 Tỉnh Lộ 15 Xã Tân Thạnh Đông Huyện Củ Chi ...</td>\n",
              "    </tr>\n",
              "    <tr>\n",
              "      <th>...</th>\n",
              "      <td>...</td>\n",
              "      <td>...</td>\n",
              "    </tr>\n",
              "    <tr>\n",
              "      <th>999995</th>\n",
              "      <td>237/3A Tôn Thất Thyết Phường 3 Quận 4 TP. Hồ C...</td>\n",
              "      <td>237/3A Tôn Thất Thuyết Phường 3 Quận 4 TP. Hồ ...</td>\n",
              "    </tr>\n",
              "    <tr>\n",
              "      <th>999996</th>\n",
              "      <td>237/3A Tôn Thaast Thuyết Phường 3 Quận 4 TP. H...</td>\n",
              "      <td>237/3A Tôn Thất Thuyết Phường 3 Quận 4 TP. Hồ ...</td>\n",
              "    </tr>\n",
              "    <tr>\n",
              "      <th>999997</th>\n",
              "      <td>237/3A Tôn Thất Thuyết Ph</td>\n",
              "      <td>237/3A Tôn Thất Thuyết Phường 3 Quận 4 TP. Hồ ...</td>\n",
              "    </tr>\n",
              "    <tr>\n",
              "      <th>999998</th>\n",
              "      <td>237/3A Tôn Thất Thuyết Phường 3 Quận 4 TP. Hồ ...</td>\n",
              "      <td>237/3A Tôn Thất Thuyết Phường 3 Quận 4 TP. Hồ ...</td>\n",
              "    </tr>\n",
              "    <tr>\n",
              "      <th>999999</th>\n",
              "      <td>237/3A Tôn Thấst Thuyết Phường 3 Quận 4 TP. Hồ...</td>\n",
              "      <td>237/3A Tôn Thất Thuyết Phường 3 Quận 4 TP. Hồ ...</td>\n",
              "    </tr>\n",
              "  </tbody>\n",
              "</table>\n",
              "<p>1000000 rows × 2 columns</p>\n",
              "</div>"
            ],
            "text/plain": [
              "                                              human_input  \\\n",
              "0       176 Tỉnh Lộ 15 Xã Tân Thạnh Đông Huyện Củ Chi ...   \n",
              "1       176 Tỉnh Lộ 15 Xã Tân Thạnh Đông Huyện Củ Chi ...   \n",
              "2       176 Tỉnh Lộ 115 Xã Tân Thạnh Đông Huyện Củ Chi...   \n",
              "3       176 Tỉnh Lộ 15 Xẫ Tân Thạnh Đông Huyện Củ Chi ...   \n",
              "4       176 Tỉnh Lị6 15 Xã Tân Thạnh Đông Huyện Củ Chi...   \n",
              "...                                                   ...   \n",
              "999995  237/3A Tôn Thất Thyết Phường 3 Quận 4 TP. Hồ C...   \n",
              "999996  237/3A Tôn Thaast Thuyết Phường 3 Quận 4 TP. H...   \n",
              "999997                          237/3A Tôn Thất Thuyết Ph   \n",
              "999998  237/3A Tôn Thất Thuyết Phường 3 Quận 4 TP. Hồ ...   \n",
              "999999  237/3A Tôn Thấst Thuyết Phường 3 Quận 4 TP. Hồ...   \n",
              "\n",
              "                                                  address  \n",
              "0       176 Tỉnh Lộ 15 Xã Tân Thạnh Đông Huyện Củ Chi ...  \n",
              "1       176 Tỉnh Lộ 15 Xã Tân Thạnh Đông Huyện Củ Chi ...  \n",
              "2       176 Tỉnh Lộ 15 Xã Tân Thạnh Đông Huyện Củ Chi ...  \n",
              "3       176 Tỉnh Lộ 15 Xã Tân Thạnh Đông Huyện Củ Chi ...  \n",
              "4       176 Tỉnh Lộ 15 Xã Tân Thạnh Đông Huyện Củ Chi ...  \n",
              "...                                                   ...  \n",
              "999995  237/3A Tôn Thất Thuyết Phường 3 Quận 4 TP. Hồ ...  \n",
              "999996  237/3A Tôn Thất Thuyết Phường 3 Quận 4 TP. Hồ ...  \n",
              "999997  237/3A Tôn Thất Thuyết Phường 3 Quận 4 TP. Hồ ...  \n",
              "999998  237/3A Tôn Thất Thuyết Phường 3 Quận 4 TP. Hồ ...  \n",
              "999999  237/3A Tôn Thất Thuyết Phường 3 Quận 4 TP. Hồ ...  \n",
              "\n",
              "[1000000 rows x 2 columns]"
            ]
          },
          "execution_count": 6,
          "metadata": {},
          "output_type": "execute_result"
        }
      ],
      "source": [
        "df = pd.read_csv('dataset-hcm1m/data-hcm-1M.csv')\n",
        "df"
      ]
    },
    {
      "cell_type": "code",
      "execution_count": null,
      "id": "6606efe6",
      "metadata": {
        "execution": {
          "iopub.execute_input": "2022-09-25T07:12:35.425106Z",
          "iopub.status.busy": "2022-09-25T07:12:35.424826Z",
          "iopub.status.idle": "2022-09-25T07:12:35.437530Z",
          "shell.execute_reply": "2022-09-25T07:12:35.436548Z"
        },
        "id": "6606efe6",
        "outputId": "c09cb268-b941-4826-c567-4438e3aafe75",
        "papermill": {
          "duration": 0.026003,
          "end_time": "2022-09-25T07:12:35.439964",
          "exception": false,
          "start_time": "2022-09-25T07:12:35.413961",
          "status": "completed"
        },
        "tags": []
      },
      "outputs": [
        {
          "data": {
            "text/html": [
              "<div>\n",
              "<style scoped>\n",
              "    .dataframe tbody tr th:only-of-type {\n",
              "        vertical-align: middle;\n",
              "    }\n",
              "\n",
              "    .dataframe tbody tr th {\n",
              "        vertical-align: top;\n",
              "    }\n",
              "\n",
              "    .dataframe thead th {\n",
              "        text-align: right;\n",
              "    }\n",
              "</style>\n",
              "<table border=\"1\" class=\"dataframe\">\n",
              "  <thead>\n",
              "    <tr style=\"text-align: right;\">\n",
              "      <th></th>\n",
              "      <th>input</th>\n",
              "      <th>output</th>\n",
              "    </tr>\n",
              "  </thead>\n",
              "  <tbody>\n",
              "    <tr>\n",
              "      <th>0</th>\n",
              "      <td>176 Tỉnh Lộ 15 Xã Tân Thạnh Đông Huyện Củ Chi ...</td>\n",
              "      <td>176 Tỉnh Lộ 15 Xã Tân Thạnh Đông Huyện Củ Chi ...</td>\n",
              "    </tr>\n",
              "    <tr>\n",
              "      <th>1</th>\n",
              "      <td>176 Tỉnh Lộ 15 Xã Tân Thạnh Đông Huyện Củ Chi ...</td>\n",
              "      <td>176 Tỉnh Lộ 15 Xã Tân Thạnh Đông Huyện Củ Chi ...</td>\n",
              "    </tr>\n",
              "    <tr>\n",
              "      <th>2</th>\n",
              "      <td>176 Tỉnh Lộ 115 Xã Tân Thạnh Đông Huyện Củ Chi...</td>\n",
              "      <td>176 Tỉnh Lộ 15 Xã Tân Thạnh Đông Huyện Củ Chi ...</td>\n",
              "    </tr>\n",
              "    <tr>\n",
              "      <th>3</th>\n",
              "      <td>176 Tỉnh Lộ 15 Xẫ Tân Thạnh Đông Huyện Củ Chi ...</td>\n",
              "      <td>176 Tỉnh Lộ 15 Xã Tân Thạnh Đông Huyện Củ Chi ...</td>\n",
              "    </tr>\n",
              "    <tr>\n",
              "      <th>4</th>\n",
              "      <td>176 Tỉnh Lị6 15 Xã Tân Thạnh Đông Huyện Củ Chi...</td>\n",
              "      <td>176 Tỉnh Lộ 15 Xã Tân Thạnh Đông Huyện Củ Chi ...</td>\n",
              "    </tr>\n",
              "    <tr>\n",
              "      <th>...</th>\n",
              "      <td>...</td>\n",
              "      <td>...</td>\n",
              "    </tr>\n",
              "    <tr>\n",
              "      <th>999995</th>\n",
              "      <td>237/3A Tôn Thất Thyết Phường 3 Quận 4 TP. Hồ C...</td>\n",
              "      <td>237/3A Tôn Thất Thuyết Phường 3 Quận 4 TP. Hồ ...</td>\n",
              "    </tr>\n",
              "    <tr>\n",
              "      <th>999996</th>\n",
              "      <td>237/3A Tôn Thaast Thuyết Phường 3 Quận 4 TP. H...</td>\n",
              "      <td>237/3A Tôn Thất Thuyết Phường 3 Quận 4 TP. Hồ ...</td>\n",
              "    </tr>\n",
              "    <tr>\n",
              "      <th>999997</th>\n",
              "      <td>237/3A Tôn Thất Thuyết Ph</td>\n",
              "      <td>237/3A Tôn Thất Thuyết Phường 3 Quận 4 TP. Hồ ...</td>\n",
              "    </tr>\n",
              "    <tr>\n",
              "      <th>999998</th>\n",
              "      <td>237/3A Tôn Thất Thuyết Phường 3 Quận 4 TP. Hồ ...</td>\n",
              "      <td>237/3A Tôn Thất Thuyết Phường 3 Quận 4 TP. Hồ ...</td>\n",
              "    </tr>\n",
              "    <tr>\n",
              "      <th>999999</th>\n",
              "      <td>237/3A Tôn Thấst Thuyết Phường 3 Quận 4 TP. Hồ...</td>\n",
              "      <td>237/3A Tôn Thất Thuyết Phường 3 Quận 4 TP. Hồ ...</td>\n",
              "    </tr>\n",
              "  </tbody>\n",
              "</table>\n",
              "<p>1000000 rows × 2 columns</p>\n",
              "</div>"
            ],
            "text/plain": [
              "                                                    input  \\\n",
              "0       176 Tỉnh Lộ 15 Xã Tân Thạnh Đông Huyện Củ Chi ...   \n",
              "1       176 Tỉnh Lộ 15 Xã Tân Thạnh Đông Huyện Củ Chi ...   \n",
              "2       176 Tỉnh Lộ 115 Xã Tân Thạnh Đông Huyện Củ Chi...   \n",
              "3       176 Tỉnh Lộ 15 Xẫ Tân Thạnh Đông Huyện Củ Chi ...   \n",
              "4       176 Tỉnh Lị6 15 Xã Tân Thạnh Đông Huyện Củ Chi...   \n",
              "...                                                   ...   \n",
              "999995  237/3A Tôn Thất Thyết Phường 3 Quận 4 TP. Hồ C...   \n",
              "999996  237/3A Tôn Thaast Thuyết Phường 3 Quận 4 TP. H...   \n",
              "999997                          237/3A Tôn Thất Thuyết Ph   \n",
              "999998  237/3A Tôn Thất Thuyết Phường 3 Quận 4 TP. Hồ ...   \n",
              "999999  237/3A Tôn Thấst Thuyết Phường 3 Quận 4 TP. Hồ...   \n",
              "\n",
              "                                                   output  \n",
              "0       176 Tỉnh Lộ 15 Xã Tân Thạnh Đông Huyện Củ Chi ...  \n",
              "1       176 Tỉnh Lộ 15 Xã Tân Thạnh Đông Huyện Củ Chi ...  \n",
              "2       176 Tỉnh Lộ 15 Xã Tân Thạnh Đông Huyện Củ Chi ...  \n",
              "3       176 Tỉnh Lộ 15 Xã Tân Thạnh Đông Huyện Củ Chi ...  \n",
              "4       176 Tỉnh Lộ 15 Xã Tân Thạnh Đông Huyện Củ Chi ...  \n",
              "...                                                   ...  \n",
              "999995  237/3A Tôn Thất Thuyết Phường 3 Quận 4 TP. Hồ ...  \n",
              "999996  237/3A Tôn Thất Thuyết Phường 3 Quận 4 TP. Hồ ...  \n",
              "999997  237/3A Tôn Thất Thuyết Phường 3 Quận 4 TP. Hồ ...  \n",
              "999998  237/3A Tôn Thất Thuyết Phường 3 Quận 4 TP. Hồ ...  \n",
              "999999  237/3A Tôn Thất Thuyết Phường 3 Quận 4 TP. Hồ ...  \n",
              "\n",
              "[1000000 rows x 2 columns]"
            ]
          },
          "execution_count": 7,
          "metadata": {},
          "output_type": "execute_result"
        }
      ],
      "source": [
        "df.columns = ['input','output']\n",
        "df"
      ]
    },
    {
      "cell_type": "markdown",
      "id": "36d180ec",
      "metadata": {
        "id": "36d180ec",
        "papermill": {
          "duration": 0.010043,
          "end_time": "2022-09-25T07:12:35.460331",
          "exception": false,
          "start_time": "2022-09-25T07:12:35.450288",
          "status": "completed"
        },
        "tags": []
      },
      "source": [
        "## Tokenizer"
      ]
    },
    {
      "cell_type": "code",
      "execution_count": null,
      "id": "a7250dc0",
      "metadata": {
        "execution": {
          "iopub.execute_input": "2022-09-25T07:12:35.482062Z",
          "iopub.status.busy": "2022-09-25T07:12:35.481803Z",
          "iopub.status.idle": "2022-09-25T07:12:37.941986Z",
          "shell.execute_reply": "2022-09-25T07:12:37.940994Z"
        },
        "id": "a7250dc0",
        "papermill": {
          "duration": 2.473641,
          "end_time": "2022-09-25T07:12:37.944435",
          "exception": false,
          "start_time": "2022-09-25T07:12:35.470794",
          "status": "completed"
        },
        "tags": []
      },
      "outputs": [],
      "source": [
        "start_token = '<s>'\n",
        "end_token = '<e>'\n",
        "df['input'] = start_token + ' ' + df['input'].str.lower() + ' ' + end_token\n",
        "df['output'] = start_token + ' ' + df['output'].str.lower() + ' ' + end_token"
      ]
    },
    {
      "cell_type": "code",
      "execution_count": null,
      "id": "43da9ad1",
      "metadata": {
        "execution": {
          "iopub.execute_input": "2022-09-25T07:12:37.968645Z",
          "iopub.status.busy": "2022-09-25T07:12:37.966932Z",
          "iopub.status.idle": "2022-09-25T07:12:38.180658Z",
          "shell.execute_reply": "2022-09-25T07:12:38.179396Z"
        },
        "id": "43da9ad1",
        "outputId": "0da577ce-082c-406a-8abb-1b7fb1b37cc6",
        "papermill": {
          "duration": 0.22737,
          "end_time": "2022-09-25T07:12:38.182801",
          "exception": false,
          "start_time": "2022-09-25T07:12:37.955431",
          "status": "completed"
        },
        "tags": []
      },
      "outputs": [
        {
          "name": "stdout",
          "output_type": "stream",
          "text": [
            "Shape of train_df: (900000, 2)\n",
            "Shape of val_df: (50000, 2)\n",
            "Shape of test_df: (50000, 2)\n"
          ]
        }
      ],
      "source": [
        "train_df, remain_df = train_test_split(df, test_size = .1, random_state = seed)\n",
        "val_df, test_df = train_test_split(remain_df, test_size = .5, random_state = seed)\n",
        "print(f'Shape of train_df: {train_df.shape}')\n",
        "print(f'Shape of val_df: {val_df.shape}')\n",
        "print(f'Shape of test_df: {test_df.shape}')"
      ]
    },
    {
      "cell_type": "code",
      "execution_count": null,
      "id": "848b2ced",
      "metadata": {
        "execution": {
          "iopub.execute_input": "2022-09-25T07:12:38.205398Z",
          "iopub.status.busy": "2022-09-25T07:12:38.205081Z",
          "iopub.status.idle": "2022-09-25T07:13:16.709883Z",
          "shell.execute_reply": "2022-09-25T07:13:16.708831Z"
        },
        "id": "848b2ced",
        "papermill": {
          "duration": 38.518712,
          "end_time": "2022-09-25T07:13:16.712280",
          "exception": false,
          "start_time": "2022-09-25T07:12:38.193568",
          "status": "completed"
        },
        "tags": []
      },
      "outputs": [],
      "source": [
        "tokenized_input = Tokenizer(filters = '!\"$%&()*+,:;=?@[\\\\]^_`{|}~\\t\\n')\n",
        "tokenized_input.fit_on_texts(train_df.input.apply(str))\n",
        "\n",
        "tokenized_output = Tokenizer(filters = '!\"$%&()*+,:;=?@[\\\\]^_`{|}~\\t\\n')\n",
        "tokenized_output.fit_on_texts(train_df.output.apply(str))"
      ]
    },
    {
      "cell_type": "markdown",
      "id": "c5c0b73c",
      "metadata": {
        "id": "c5c0b73c",
        "papermill": {
          "duration": 0.010301,
          "end_time": "2022-09-25T07:13:16.733336",
          "exception": false,
          "start_time": "2022-09-25T07:13:16.723035",
          "status": "completed"
        },
        "tags": []
      },
      "source": [
        "## Dataloader"
      ]
    },
    {
      "cell_type": "code",
      "execution_count": null,
      "id": "779a190b",
      "metadata": {
        "execution": {
          "iopub.execute_input": "2022-09-25T07:13:16.755252Z",
          "iopub.status.busy": "2022-09-25T07:13:16.754939Z",
          "iopub.status.idle": "2022-09-25T07:13:16.763339Z",
          "shell.execute_reply": "2022-09-25T07:13:16.762338Z"
        },
        "id": "779a190b",
        "papermill": {
          "duration": 0.021828,
          "end_time": "2022-09-25T07:13:16.765450",
          "exception": false,
          "start_time": "2022-09-25T07:13:16.743622",
          "status": "completed"
        },
        "tags": []
      },
      "outputs": [],
      "source": [
        "class Dataset:\n",
        "    def __init__(self, data, tokenized_input, tokenized_output, max_len):\n",
        "        self.input = data[\"input\"].apply(str).values\n",
        "        self.output = data[\"output\"].apply(str).values\n",
        "\n",
        "        self.tokenized_input = tokenized_input\n",
        "        self.tokenized_output = tokenized_output\n",
        "        self.max_len = max_len\n",
        "    \n",
        "    def __getitem__(self, i):\n",
        "        self.input_sequence = self.tokenized_input.texts_to_sequences([self.input[i]])\n",
        "        self.output_sequence = self.tokenized_output.texts_to_sequences([self.output[i]])\n",
        "\n",
        "        self.encoder_input_sequence = pad_sequences(self.input_sequence, padding = \"post\", maxlen = self.max_len)\n",
        "        self.decoder_input_sequence = pad_sequences(np.array(self.output_sequence)[:,:-1], padding = \"post\", maxlen = self.max_len)\n",
        "        self.decoder_output_sequence = pad_sequences(np.array(self.output_sequence)[:,1:], padding = \"post\", maxlen = self.max_len)\n",
        "\n",
        "        return self.encoder_input_sequence, self.decoder_input_sequence, self.decoder_output_sequence\n",
        "    \n",
        "    def __len__(self):\n",
        "        return len(self.encoder_input)"
      ]
    },
    {
      "cell_type": "code",
      "execution_count": null,
      "id": "34500556",
      "metadata": {
        "execution": {
          "iopub.execute_input": "2022-09-25T07:13:16.787136Z",
          "iopub.status.busy": "2022-09-25T07:13:16.786869Z",
          "iopub.status.idle": "2022-09-25T07:13:16.794654Z",
          "shell.execute_reply": "2022-09-25T07:13:16.793628Z"
        },
        "id": "34500556",
        "papermill": {
          "duration": 0.020753,
          "end_time": "2022-09-25T07:13:16.796465",
          "exception": false,
          "start_time": "2022-09-25T07:13:16.775712",
          "status": "completed"
        },
        "tags": []
      },
      "outputs": [],
      "source": [
        "class Dataloader(tf.keras.utils.Sequence):\n",
        "    def __init__(self, batch_size, dataset):\n",
        "        self.dataset = dataset\n",
        "        self.batch_size = batch_size\n",
        "        self.total_points = self.dataset.input.shape[0]\n",
        "    \n",
        "    def __getitem__(self, i):\n",
        "        start = i * self.batch_size\n",
        "        end = (i + 1) * self.batch_size\n",
        "\n",
        "        batch_encoder = []\n",
        "        batch_decoder_input = []\n",
        "        batch_decoder_output = []\n",
        "\n",
        "        for j in range(start, end):\n",
        "            encoder, decoder_input, decoder_output = self.dataset[j]\n",
        "\n",
        "            batch_encoder.append(encoder[0])\n",
        "            batch_decoder_input.append(decoder_input[0])\n",
        "            batch_decoder_output.append(decoder_output[0])\n",
        "\n",
        "        batch_encoder = (np.array(batch_encoder))\n",
        "        batch_decoder_input = np.array(batch_decoder_input)\n",
        "        batch_decoder_output = np.array(batch_decoder_output)\n",
        "\n",
        "        return [batch_encoder, batch_decoder_input], batch_decoder_output\n",
        "    \n",
        "    def __len__(self):\n",
        "        return int(self.total_points / self.batch_size)"
      ]
    },
    {
      "cell_type": "code",
      "execution_count": null,
      "id": "be5c7de7",
      "metadata": {
        "execution": {
          "iopub.execute_input": "2022-09-25T07:13:16.820241Z",
          "iopub.status.busy": "2022-09-25T07:13:16.819339Z",
          "iopub.status.idle": "2022-09-25T07:13:17.448322Z",
          "shell.execute_reply": "2022-09-25T07:13:17.447361Z"
        },
        "id": "be5c7de7",
        "papermill": {
          "duration": 0.642852,
          "end_time": "2022-09-25T07:13:17.450888",
          "exception": false,
          "start_time": "2022-09-25T07:13:16.808036",
          "status": "completed"
        },
        "tags": []
      },
      "outputs": [],
      "source": [
        "max_token_length = 32 # https://github.com/trhgquan/address-correction-with-ml\n",
        "BATCH_SIZE = 512\n",
        "\n",
        "train_dataset = Dataset(data = train_df, tokenized_input = tokenized_input, tokenized_output = tokenized_output, max_len = max_token_length)\n",
        "train_dataloader = Dataloader(batch_size = BATCH_SIZE, dataset = train_dataset)\n",
        "\n",
        "val_dataset = Dataset(data = val_df, tokenized_input = tokenized_input, tokenized_output = tokenized_output, max_len = max_token_length)\n",
        "val_dataloader = Dataloader(batch_size = BATCH_SIZE, dataset = val_dataset)\n",
        "\n",
        "test_dataset = Dataset(data = test_df, tokenized_input = tokenized_input, tokenized_output = tokenized_output, max_len = max_token_length)\n",
        "test_dataloader = Dataloader(batch_size = BATCH_SIZE, dataset = test_dataset)"
      ]
    },
    {
      "cell_type": "markdown",
      "id": "1cac032e",
      "metadata": {
        "id": "1cac032e",
        "papermill": {
          "duration": 0.010185,
          "end_time": "2022-09-25T07:13:17.472007",
          "exception": false,
          "start_time": "2022-09-25T07:13:17.461822",
          "status": "completed"
        },
        "tags": []
      },
      "source": [
        "## Positional Encoding"
      ]
    },
    {
      "cell_type": "code",
      "execution_count": null,
      "id": "99088fc5",
      "metadata": {
        "execution": {
          "iopub.execute_input": "2022-09-25T07:13:17.493937Z",
          "iopub.status.busy": "2022-09-25T07:13:17.493643Z",
          "iopub.status.idle": "2022-09-25T07:13:17.499397Z",
          "shell.execute_reply": "2022-09-25T07:13:17.498417Z"
        },
        "id": "99088fc5",
        "papermill": {
          "duration": 0.019223,
          "end_time": "2022-09-25T07:13:17.501446",
          "exception": false,
          "start_time": "2022-09-25T07:13:17.482223",
          "status": "completed"
        },
        "tags": []
      },
      "outputs": [],
      "source": [
        "def positional_encoding(length,depth):\n",
        "    depth = depth/2\n",
        "    \n",
        "    positions = np.arange(length)[:,np.newaxis]\n",
        "    depths = np.arange(depth)[np.newaxis, :]/depth\n",
        "\n",
        "    angle_rates = 1/(10000**depths)\n",
        "    angle_rads = positions * angle_rates\n",
        "\n",
        "    pos_encoding = np.concatenate([np.sin(angle_rads),np.cos(angle_rads)], axis=-1)\n",
        "    return pos_encoding.astype('float32')"
      ]
    },
    {
      "cell_type": "code",
      "execution_count": null,
      "id": "78089421",
      "metadata": {
        "execution": {
          "iopub.execute_input": "2022-09-25T07:13:17.523381Z",
          "iopub.status.busy": "2022-09-25T07:13:17.523091Z",
          "iopub.status.idle": "2022-09-25T07:13:17.529898Z",
          "shell.execute_reply": "2022-09-25T07:13:17.528811Z"
        },
        "id": "78089421",
        "papermill": {
          "duration": 0.019939,
          "end_time": "2022-09-25T07:13:17.531711",
          "exception": false,
          "start_time": "2022-09-25T07:13:17.511772",
          "status": "completed"
        },
        "tags": []
      },
      "outputs": [],
      "source": [
        "class PositionalEmbedding(tf.keras.layers.Layer):\n",
        "    def __init__(self,vocab_size,d_model):\n",
        "        super().__init__()\n",
        "        self.d_model=d_model\n",
        "        self.embedding = tf.keras.layers.Embedding(vocab_size, d_model, mask_zero = True)\n",
        "        self.pos_encoding = positional_encoding(length=2048, depth=d_model)\n",
        "\n",
        "    def compute_mask(self,*args,**kwargs):\n",
        "        return self.embedding.compute_mask(*args,*kwargs)\n",
        "\n",
        "    def call(self,x):\n",
        "        length = x.shape[1]\n",
        "        x = self.embedding(x)\n",
        "        x *= np.sqrt(float(self.d_model))\n",
        "        x += self.pos_encoding[np.newaxis, :length, :]\n",
        "        return x"
      ]
    },
    {
      "cell_type": "code",
      "execution_count": null,
      "id": "405d994b",
      "metadata": {
        "execution": {
          "iopub.execute_input": "2022-09-25T07:13:17.554456Z",
          "iopub.status.busy": "2022-09-25T07:13:17.553028Z",
          "iopub.status.idle": "2022-09-25T07:13:19.161977Z",
          "shell.execute_reply": "2022-09-25T07:13:19.161052Z"
        },
        "id": "405d994b",
        "outputId": "6730cf97-e825-487c-93ff-aaaf7fb59795",
        "papermill": {
          "duration": 1.621966,
          "end_time": "2022-09-25T07:13:19.163974",
          "exception": false,
          "start_time": "2022-09-25T07:13:17.542008",
          "status": "completed"
        },
        "tags": []
      },
      "outputs": [
        {
          "name": "stdout",
          "output_type": "stream",
          "text": [
            "tf.Tensor(\n",
            "[[ True  True  True ... False False False]\n",
            " [ True  True  True ... False False False]\n",
            " [ True  True  True ... False False False]\n",
            " ...\n",
            " [ True  True  True ... False False False]\n",
            " [ True  True  True ... False False False]\n",
            " [ True  True  True ... False False False]], shape=(512, 32), dtype=bool)\n"
          ]
        },
        {
          "name": "stderr",
          "output_type": "stream",
          "text": [
            "2022-09-25 07:13:17.713952: I tensorflow/stream_executor/cuda/cuda_gpu_executor.cc:980] successful NUMA node read from SysFS had negative value (-1), but there must be at least one NUMA node, so returning NUMA node zero\n",
            "2022-09-25 07:13:17.807088: I tensorflow/stream_executor/cuda/cuda_gpu_executor.cc:980] successful NUMA node read from SysFS had negative value (-1), but there must be at least one NUMA node, so returning NUMA node zero\n",
            "2022-09-25 07:13:17.807898: I tensorflow/stream_executor/cuda/cuda_gpu_executor.cc:980] successful NUMA node read from SysFS had negative value (-1), but there must be at least one NUMA node, so returning NUMA node zero\n",
            "2022-09-25 07:13:17.809089: I tensorflow/core/platform/cpu_feature_guard.cc:193] This TensorFlow binary is optimized with oneAPI Deep Neural Network Library (oneDNN) to use the following CPU instructions in performance-critical operations:  AVX2 AVX512F FMA\n",
            "To enable them in other operations, rebuild TensorFlow with the appropriate compiler flags.\n",
            "2022-09-25 07:13:17.809479: I tensorflow/stream_executor/cuda/cuda_gpu_executor.cc:980] successful NUMA node read from SysFS had negative value (-1), but there must be at least one NUMA node, so returning NUMA node zero\n",
            "2022-09-25 07:13:17.810218: I tensorflow/stream_executor/cuda/cuda_gpu_executor.cc:980] successful NUMA node read from SysFS had negative value (-1), but there must be at least one NUMA node, so returning NUMA node zero\n",
            "2022-09-25 07:13:17.810913: I tensorflow/stream_executor/cuda/cuda_gpu_executor.cc:980] successful NUMA node read from SysFS had negative value (-1), but there must be at least one NUMA node, so returning NUMA node zero\n",
            "2022-09-25 07:13:18.725576: I tensorflow/stream_executor/cuda/cuda_gpu_executor.cc:980] successful NUMA node read from SysFS had negative value (-1), but there must be at least one NUMA node, so returning NUMA node zero\n",
            "2022-09-25 07:13:18.726457: I tensorflow/stream_executor/cuda/cuda_gpu_executor.cc:980] successful NUMA node read from SysFS had negative value (-1), but there must be at least one NUMA node, so returning NUMA node zero\n",
            "2022-09-25 07:13:18.727145: I tensorflow/stream_executor/cuda/cuda_gpu_executor.cc:980] successful NUMA node read from SysFS had negative value (-1), but there must be at least one NUMA node, so returning NUMA node zero\n",
            "2022-09-25 07:13:18.727784: I tensorflow/core/common_runtime/gpu/gpu_device.cc:1616] Created device /job:localhost/replica:0/task:0/device:GPU:0 with 15361 MB memory:  -> device: 0, name: Tesla P100-PCIE-16GB, pci bus id: 0000:00:04.0, compute capability: 6.0\n"
          ]
        }
      ],
      "source": [
        "# For testing\n",
        "embed_input = PositionalEmbedding(vocab_size=len(tokenized_input.word_index), d_model=512)\n",
        "embed_output = PositionalEmbedding(vocab_size=len(tokenized_output.word_index), d_model=512)\n",
        "\n",
        "input_emb = embed_input(train_dataloader[0][0][0])\n",
        "output_emb = embed_output(train_dataloader[0][0][1])\n",
        "\n",
        "print(output_emb._keras_mask)"
      ]
    },
    {
      "cell_type": "markdown",
      "id": "609f6148",
      "metadata": {
        "id": "609f6148",
        "papermill": {
          "duration": 0.010327,
          "end_time": "2022-09-25T07:13:19.184996",
          "exception": false,
          "start_time": "2022-09-25T07:13:19.174669",
          "status": "completed"
        },
        "tags": []
      },
      "source": [
        "## Feed-forward network"
      ]
    },
    {
      "cell_type": "code",
      "execution_count": null,
      "id": "1fe19f64",
      "metadata": {
        "execution": {
          "iopub.execute_input": "2022-09-25T07:13:19.207082Z",
          "iopub.status.busy": "2022-09-25T07:13:19.206799Z",
          "iopub.status.idle": "2022-09-25T07:13:19.213132Z",
          "shell.execute_reply": "2022-09-25T07:13:19.212159Z"
        },
        "id": "1fe19f64",
        "papermill": {
          "duration": 0.019688,
          "end_time": "2022-09-25T07:13:19.215153",
          "exception": false,
          "start_time": "2022-09-25T07:13:19.195465",
          "status": "completed"
        },
        "tags": []
      },
      "outputs": [],
      "source": [
        "def point_wise_feed_forward_network(\n",
        "    d_model, # Input/output dimensionality\n",
        "    dff, # Inner-layer dimensionality\n",
        "    ):\n",
        "    return tf.keras.Sequential([\n",
        "        tf.keras.layers.Dense(dff,activation='relu'), # Shape (batch_size, seq_len, dff)\n",
        "        tf.keras.layers.Dense(d_model) # Shape (batch_size, seq_len, d_model)\n",
        "    ])"
      ]
    },
    {
      "cell_type": "code",
      "execution_count": null,
      "id": "45310fb9",
      "metadata": {
        "execution": {
          "iopub.execute_input": "2022-09-25T07:13:19.237222Z",
          "iopub.status.busy": "2022-09-25T07:13:19.236950Z",
          "iopub.status.idle": "2022-09-25T07:13:20.167919Z",
          "shell.execute_reply": "2022-09-25T07:13:20.166736Z"
        },
        "id": "45310fb9",
        "outputId": "bd6bd816-787a-43f4-c27d-7ccbd11cd89b",
        "papermill": {
          "duration": 0.94454,
          "end_time": "2022-09-25T07:13:20.170165",
          "exception": false,
          "start_time": "2022-09-25T07:13:19.225625",
          "status": "completed"
        },
        "tags": []
      },
      "outputs": [
        {
          "name": "stdout",
          "output_type": "stream",
          "text": [
            "(64, 50, 512)\n"
          ]
        }
      ],
      "source": [
        "# For testing\n",
        "sample_ffn = point_wise_feed_forward_network(512, 2048)\n",
        "\n",
        "# Print the shape.\n",
        "print(sample_ffn(np.random.uniform(size = (64, 50, 512))).shape)"
      ]
    },
    {
      "cell_type": "markdown",
      "id": "8f757a20",
      "metadata": {
        "id": "8f757a20",
        "papermill": {
          "duration": 0.010334,
          "end_time": "2022-09-25T07:13:20.191223",
          "exception": false,
          "start_time": "2022-09-25T07:13:20.180889",
          "status": "completed"
        },
        "tags": []
      },
      "source": [
        "## Encoder"
      ]
    },
    {
      "cell_type": "code",
      "execution_count": null,
      "id": "85d25fb3",
      "metadata": {
        "execution": {
          "iopub.execute_input": "2022-09-25T07:13:20.213746Z",
          "iopub.status.busy": "2022-09-25T07:13:20.213431Z",
          "iopub.status.idle": "2022-09-25T07:13:20.222968Z",
          "shell.execute_reply": "2022-09-25T07:13:20.221882Z"
        },
        "id": "85d25fb3",
        "papermill": {
          "duration": 0.023496,
          "end_time": "2022-09-25T07:13:20.225233",
          "exception": false,
          "start_time": "2022-09-25T07:13:20.201737",
          "status": "completed"
        },
        "tags": []
      },
      "outputs": [],
      "source": [
        "class EncoderLayer(tf.keras.layers.Layer):\n",
        "    def __init__(self,*,\n",
        "                 d_model, # Input/output dimensionality\n",
        "                 num_attention_heads,\n",
        "                 dff, # Inner-layer dimensionality\n",
        "                 dropout_rate=.1\n",
        "                 ):\n",
        "        super().__init__()\n",
        "\n",
        "        # Multi-head self-attention\n",
        "        self.mha = tf.keras.layers.MultiHeadAttention(\n",
        "            num_heads = num_attention_heads,\n",
        "            key_dim = d_model,\n",
        "            dropout = dropout_rate,\n",
        "        )\n",
        "        # Point-wise feed-forward network\n",
        "        self.ffn = point_wise_feed_forward_network(d_model, dff)\n",
        "\n",
        "        # Layer normalization\n",
        "        self.layernorm1 = tf.keras.layers.LayerNormalization(epsilon=1e-6)\n",
        "        self.layernorm2 = tf.keras.layers.LayerNormalization(epsilon=1e-6)\n",
        "\n",
        "        # Dropout for the point-wise feed-forward network\n",
        "        self.dropout1 = tf.keras.layers.Dropout(dropout_rate)\n",
        "\n",
        "    def call(self, x, training, mask):\n",
        "        # A boolean mask\n",
        "        if mask is not None:\n",
        "            mask1 = mask[:, :, None]\n",
        "            mask2 = mask[:, None, :]\n",
        "            attention_mask = mask1 & mask2\n",
        "        else:\n",
        "            attention_mask = None\n",
        "        \n",
        "        # Multi-head self-attention output\n",
        "        attn_output = self.mha(\n",
        "            query = x, # Query Q tensor\n",
        "            value = x, # Query V tensor\n",
        "            key = x, # Key K tensor\n",
        "            attention_mask = attention_mask, # A boolean mask that prevents attention to certain positions\n",
        "            training = training, # A boolean indicating whether the layer should behave in training mode\n",
        "        )\n",
        "\n",
        "        # Multi-head self-attention output after layer normalization and a residual/skip connection\n",
        "        out1 = self.layernorm1(x + attn_output)\n",
        "\n",
        "        # Point-wise feed-forward network output\n",
        "        ffn_output = self.ffn(out1)\n",
        "        ffn_output = self.dropout1(ffn_output, training = training)\n",
        "        # Point-wise feed-forward network output after layer normalization and a residual/skip connection\n",
        "        out2 = self.layernorm2(out1 + ffn_output)\n",
        "        return out2"
      ]
    },
    {
      "cell_type": "code",
      "execution_count": null,
      "id": "6235c0d4",
      "metadata": {
        "execution": {
          "iopub.execute_input": "2022-09-25T07:13:20.247422Z",
          "iopub.status.busy": "2022-09-25T07:13:20.247132Z",
          "iopub.status.idle": "2022-09-25T07:13:20.340257Z",
          "shell.execute_reply": "2022-09-25T07:13:20.339108Z"
        },
        "id": "6235c0d4",
        "outputId": "ce5de0d6-e3a1-4ac9-9fda-65bf1dc59fd1",
        "papermill": {
          "duration": 0.106844,
          "end_time": "2022-09-25T07:13:20.342481",
          "exception": false,
          "start_time": "2022-09-25T07:13:20.235637",
          "status": "completed"
        },
        "tags": []
      },
      "outputs": [
        {
          "name": "stdout",
          "output_type": "stream",
          "text": [
            "(2, 3, 512)\n"
          ]
        }
      ],
      "source": [
        "# For testing \n",
        "sample_encoder_layer = EncoderLayer(d_model=512, num_attention_heads=8, dff=2048)\n",
        "\n",
        "sample_encoder_layer_output = sample_encoder_layer(\n",
        "    np.random.uniform(size=(2, 3, 512)), training=False, mask=None)\n",
        "\n",
        "# Print the shape.\n",
        "print(sample_encoder_layer_output.shape)  # Shape `(batch_size, input_seq_len, d_model)`."
      ]
    },
    {
      "cell_type": "code",
      "execution_count": null,
      "id": "1d53081e",
      "metadata": {
        "execution": {
          "iopub.execute_input": "2022-09-25T07:13:20.364913Z",
          "iopub.status.busy": "2022-09-25T07:13:20.364626Z",
          "iopub.status.idle": "2022-09-25T07:13:20.374406Z",
          "shell.execute_reply": "2022-09-25T07:13:20.373546Z"
        },
        "id": "1d53081e",
        "papermill": {
          "duration": 0.023312,
          "end_time": "2022-09-25T07:13:20.376459",
          "exception": false,
          "start_time": "2022-09-25T07:13:20.353147",
          "status": "completed"
        },
        "tags": []
      },
      "outputs": [],
      "source": [
        "class Encoder(tf.keras.layers.Layer):\n",
        "    def __init__(self,\n",
        "                 *,\n",
        "                 num_layers,\n",
        "                 d_model, # Input/output dimensionality\n",
        "                 num_attention_heads,\n",
        "                 dff, # Inner-layer dimensionality\n",
        "                 input_vocab_size, # Input vocabulary size\n",
        "                 dropout_rate = .1\n",
        "                 ):\n",
        "        super().__init__()\n",
        "        self.d_model = d_model\n",
        "        self.num_layers = num_layers\n",
        "\n",
        "        # Embedding + Positional encoding\n",
        "        self.pos_embedding = PositionalEmbedding(input_vocab_size, d_model)\n",
        "\n",
        "        # Encoder layers\n",
        "        self.enc_layers = [\n",
        "            EncoderLayer(\n",
        "                d_model = d_model,\n",
        "                num_attention_heads = num_attention_heads,\n",
        "                dff = dff,\n",
        "                dropout_rate = dropout_rate)\n",
        "            for _ in range(num_layers)\n",
        "        ]\n",
        "        # Dropout\n",
        "        self.dropout = tf.keras.layers.Dropout(dropout_rate)\n",
        "    \n",
        "    # Masking \n",
        "    def compute_mask(self,x, previous_mask = None):\n",
        "        return self.pos_embedding.compute_mask(x, previous_mask)\n",
        "    \n",
        "    def call(self, x, training):\n",
        "        seq_len = x.shape[1]\n",
        "        \n",
        "        # Sum up embeddings and positional encoding\n",
        "        mask = self.compute_mask(x)\n",
        "        x = self.pos_embedding(x) # Shape (batch_size, input_seq_len, d_model)\n",
        "        # Add dropout\n",
        "        x = self.dropout(x, training = training)\n",
        "\n",
        "        # N encoder layers\n",
        "        for i in range(self.num_layers):\n",
        "            x = self.enc_layers[i](x, training, mask)\n",
        "        return x # Shape (batch_size, input_seq_len, d_model)"
      ]
    },
    {
      "cell_type": "code",
      "execution_count": null,
      "id": "30643d0d",
      "metadata": {
        "execution": {
          "iopub.execute_input": "2022-09-25T07:13:20.398801Z",
          "iopub.status.busy": "2022-09-25T07:13:20.398530Z",
          "iopub.status.idle": "2022-09-25T07:13:20.750770Z",
          "shell.execute_reply": "2022-09-25T07:13:20.749675Z"
        },
        "id": "30643d0d",
        "outputId": "8a4478d4-301d-4486-ca1c-9cd28e706320",
        "papermill": {
          "duration": 0.365864,
          "end_time": "2022-09-25T07:13:20.753019",
          "exception": false,
          "start_time": "2022-09-25T07:13:20.387155",
          "status": "completed"
        },
        "tags": []
      },
      "outputs": [
        {
          "name": "stdout",
          "output_type": "stream",
          "text": [
            "(512, 32)\n",
            "(512, 32, 512)\n"
          ]
        }
      ],
      "source": [
        "# For testing\n",
        "# Instantiate the encoder.\n",
        "sample_encoder = Encoder(\n",
        "    num_layers=2,\n",
        "    d_model=512,\n",
        "    num_attention_heads=8,\n",
        "    dff=2048,\n",
        "    input_vocab_size=len(tokenized_input.word_index))\n",
        "\n",
        "# Set the test input.\n",
        "sample_encoder_output = sample_encoder(train_dataloader[3][0][0],\n",
        "                                       training=False)\n",
        "\n",
        "# Print the shape.\n",
        "print(train_dataloader[3][0][0].shape)\n",
        "print(sample_encoder_output.shape)  # Shape `(batch_size, input_seq_len, d_model)`."
      ]
    },
    {
      "cell_type": "markdown",
      "id": "270cfb0f",
      "metadata": {
        "id": "270cfb0f",
        "papermill": {
          "duration": 0.01052,
          "end_time": "2022-09-25T07:13:20.774483",
          "exception": false,
          "start_time": "2022-09-25T07:13:20.763963",
          "status": "completed"
        },
        "tags": []
      },
      "source": [
        "## Decoder"
      ]
    },
    {
      "cell_type": "code",
      "execution_count": null,
      "id": "c320ac30",
      "metadata": {
        "execution": {
          "iopub.execute_input": "2022-09-25T07:13:20.798626Z",
          "iopub.status.busy": "2022-09-25T07:13:20.797105Z",
          "iopub.status.idle": "2022-09-25T07:13:20.810774Z",
          "shell.execute_reply": "2022-09-25T07:13:20.809931Z"
        },
        "id": "c320ac30",
        "papermill": {
          "duration": 0.027741,
          "end_time": "2022-09-25T07:13:20.812727",
          "exception": false,
          "start_time": "2022-09-25T07:13:20.784986",
          "status": "completed"
        },
        "tags": []
      },
      "outputs": [],
      "source": [
        "class DecoderLayer(tf.keras.layers.Layer):\n",
        "    def __init__(self,\n",
        "                 *,\n",
        "                 d_model, # Input/output dimensionality\n",
        "                 num_attention_heads,\n",
        "                 dff, # Inner-layer dimensionality\n",
        "                 dropout_rate=.1\n",
        "                 ):\n",
        "        super().__init__()\n",
        "\n",
        "        # Mask multi-head self-attention\n",
        "        self.mha_masked = tf.keras.layers.MultiHeadAttention(\n",
        "            num_heads = num_attention_heads,\n",
        "            key_dim = d_model, # Size of each attention head for query Q and key K\n",
        "            dropout = dropout_rate\n",
        "        )\n",
        "        # Multi-head cross-attention\n",
        "        self.mha_cross = tf.keras.layers.MultiHeadAttention(\n",
        "            num_heads = num_attention_heads,\n",
        "            key_dim = d_model, # Size of each attentionhead for query Q and key K\n",
        "            dropout = dropout_rate\n",
        "        )\n",
        "\n",
        "        # Point-wise feed-forward network\n",
        "        self.ffn = point_wise_feed_forward_network(d_model, dff)\n",
        "\n",
        "        # Layer normalization\n",
        "        self.layernorm1 = tf.keras.layers.LayerNormalization(epsilon=1e-6)\n",
        "        self.layernorm2 = tf.keras.layers.LayerNormalization(epsilon=1e-6)\n",
        "        self.layernorm3 = tf.keras.layers.LayerNormalization(epsilon=1e-6)\n",
        "\n",
        "        # Dropout for the point-wise feed-forward network\n",
        "        self.dropout1 = tf.keras.layers.Dropout(dropout_rate)\n",
        "\n",
        "    def call(self, x, mask, enc_output, enc_mask, training):\n",
        "        # The encoder output shape is (batch_size, input_seq_len, d_model)\n",
        "        \n",
        "        # A boolean mask\n",
        "        self_attention_mask = None\n",
        "        if mask is not None:\n",
        "            mask1 = mask[:, :, None]\n",
        "            mask2 = mask[:, None, :]\n",
        "            self_attention_mask = mask1 & mask2\n",
        "        \n",
        "        # Masked multi-head self-attention output (tf.keras.layers.MultiHeadAttention)\n",
        "        attn_masked, attn_weights_masked = self.mha_masked(\n",
        "            query = x,\n",
        "            value = x, \n",
        "            key = x,\n",
        "            attention_mask = self_attention_mask, # A boolean mask that prevents attention to certain positions\n",
        "            use_causal_mask = True, # A boolean to indicate whether to apply a causal mask to prevent tokens from attending to future tokens\n",
        "            return_attention_scores = True, # Shape (batch_size, target_seq_len, d_model)\n",
        "            training = training # A boolean indicating whether the layer should behave in training mode\n",
        "        )\n",
        "\n",
        "        # Masked multi-head self-attention output after layer normalization and a residual/skip connection\n",
        "        out1 = self.layernorm1(attn_masked + x)\n",
        "\n",
        "        # A boolean mask \n",
        "        attention_mask = None\n",
        "        if mask is not None and enc_mask is not None:\n",
        "            mask1 = mask[:, :, None]\n",
        "            mask2 = enc_mask[:, None, :]\n",
        "            attention_mask = mask1 & mask2\n",
        "        \n",
        "        # Multi-head cross-attention output (tf.keras.layers.MultiHeadAttention)\n",
        "        attn_cross, attn_weights_cross = self.mha_cross(\n",
        "            query = out1,\n",
        "            value = enc_output,\n",
        "            key = enc_output,\n",
        "            attention_mask = attention_mask, # A boolean mask that prevents attention to certain positions\n",
        "            return_attention_scores = True, # Shape (batch_size, target_seq_len, d_model)\n",
        "            training = training # A boolean indicating whether the layer should behave in training mode \n",
        "        )\n",
        "\n",
        "        # Multi-head cross-attention output after layer normalization and a residual/skip connection\n",
        "        out2 = self.layernorm2(attn_cross + out1)\n",
        "\n",
        "        # Point-wise feed-forward network output\n",
        "        ffn_output = self.ffn(out2) # Shape (batch_size, target_seq_len, d_model)\n",
        "        ffn_output = self.dropout1(ffn_output, training = training)\n",
        "        out3 = self.layernorm3(ffn_output + out2) # Shape (batch_size, target_seq_len, d_model)\n",
        "\n",
        "        return out3, attn_weights_masked, attn_weights_cross"
      ]
    },
    {
      "cell_type": "code",
      "execution_count": null,
      "id": "e15db601",
      "metadata": {
        "execution": {
          "iopub.execute_input": "2022-09-25T07:13:20.835767Z",
          "iopub.status.busy": "2022-09-25T07:13:20.834984Z",
          "iopub.status.idle": "2022-09-25T07:13:20.925959Z",
          "shell.execute_reply": "2022-09-25T07:13:20.924435Z"
        },
        "id": "e15db601",
        "outputId": "be34c1e1-51b0-481a-f6d5-e6e20b263846",
        "papermill": {
          "duration": 0.104503,
          "end_time": "2022-09-25T07:13:20.927955",
          "exception": false,
          "start_time": "2022-09-25T07:13:20.823452",
          "status": "completed"
        },
        "tags": []
      },
      "outputs": [
        {
          "name": "stdout",
          "output_type": "stream",
          "text": [
            "(2, 5, 512)\n"
          ]
        }
      ],
      "source": [
        "# For testing\n",
        "sample_decoder_layer = DecoderLayer(d_model=512, num_attention_heads=8, dff=2048)\n",
        "\n",
        "sample_decoder_layer_output, att1, att2 = sample_decoder_layer(\n",
        "    x=np.random.uniform(size=(2, 5, 512)),\n",
        "    mask=None,\n",
        "    enc_output=sample_encoder_layer_output,\n",
        "    enc_mask=None,\n",
        "    training=False)\n",
        "\n",
        "# Print the shape.\n",
        "print(sample_decoder_layer_output.shape)  # `(batch_size, target_seq_len, d_model)`"
      ]
    },
    {
      "cell_type": "code",
      "execution_count": null,
      "id": "a5c82012",
      "metadata": {
        "execution": {
          "iopub.execute_input": "2022-09-25T07:13:20.951613Z",
          "iopub.status.busy": "2022-09-25T07:13:20.950818Z",
          "iopub.status.idle": "2022-09-25T07:13:20.961034Z",
          "shell.execute_reply": "2022-09-25T07:13:20.960191Z"
        },
        "id": "a5c82012",
        "papermill": {
          "duration": 0.024225,
          "end_time": "2022-09-25T07:13:20.963069",
          "exception": false,
          "start_time": "2022-09-25T07:13:20.938844",
          "status": "completed"
        },
        "tags": []
      },
      "outputs": [],
      "source": [
        "class Decoder(tf.keras.layers.Layer):\n",
        "    def __init__(self,\n",
        "                 *,\n",
        "                 num_layers,\n",
        "                 d_model, # Input/output dimensionality\n",
        "                 num_attention_heads,\n",
        "                 dff, # Inner-layer dimensionality\n",
        "                 target_vocab_size,\n",
        "                 dropout_rate = .1\n",
        "                 ):\n",
        "        super().__init__()\n",
        "\n",
        "        self.d_model = d_model\n",
        "        self.num_layers = num_layers\n",
        "\n",
        "        self.pos_embedding = PositionalEmbedding(target_vocab_size,d_model)\n",
        "\n",
        "        self.dec_layers = [\n",
        "            DecoderLayer(\n",
        "                d_model = d_model,\n",
        "                num_attention_heads = num_attention_heads,\n",
        "                dff = dff,\n",
        "                dropout_rate = dropout_rate\n",
        "            )\n",
        "            for _ in range(num_layers)\n",
        "        ]\n",
        "        self.dropout = tf.keras.layers.Dropout(dropout_rate)\n",
        "\n",
        "    def call(self, x, enc_output, enc_mask, training):\n",
        "        attention_weights = {}\n",
        "\n",
        "        mask = self.pos_embedding.compute_mask(x)\n",
        "        x = self.pos_embedding(x) # Shape (batch_size, target_seq_len, d_model)\n",
        "\n",
        "        x = self.dropout(x, training = training)\n",
        "\n",
        "        for i in range(self.num_layers):\n",
        "            x, block1, block2 = self.dec_layers[i](x, mask, enc_output, enc_mask, training)\n",
        "\n",
        "            attention_weights[f'decoder_layer{i+1}_block1'] = block1\n",
        "            attention_weights[f'decoder_layer{i+1}_block2'] = block2\n",
        "        \n",
        "        # The shape of x is (batch_size, target_seq_len, d_model)\n",
        "        return x, attention_weights"
      ]
    },
    {
      "cell_type": "markdown",
      "id": "5c130f6d",
      "metadata": {
        "id": "5c130f6d",
        "papermill": {
          "duration": 0.010465,
          "end_time": "2022-09-25T07:13:20.984414",
          "exception": false,
          "start_time": "2022-09-25T07:13:20.973949",
          "status": "completed"
        },
        "tags": []
      },
      "source": [
        "## Hyperparameter"
      ]
    },
    {
      "cell_type": "code",
      "execution_count": null,
      "id": "356419a9",
      "metadata": {
        "execution": {
          "iopub.execute_input": "2022-09-25T07:13:21.007661Z",
          "iopub.status.busy": "2022-09-25T07:13:21.006828Z",
          "iopub.status.idle": "2022-09-25T07:13:21.011870Z",
          "shell.execute_reply": "2022-09-25T07:13:21.010996Z"
        },
        "id": "356419a9",
        "papermill": {
          "duration": 0.018933,
          "end_time": "2022-09-25T07:13:21.014150",
          "exception": false,
          "start_time": "2022-09-25T07:13:20.995217",
          "status": "completed"
        },
        "tags": []
      },
      "outputs": [],
      "source": [
        "num_layers = 4\n",
        "d_model = 128\n",
        "dff = 512\n",
        "num_attention_heads = 8\n",
        "dropout_rate = 0.1"
      ]
    },
    {
      "cell_type": "code",
      "execution_count": null,
      "id": "d0229484",
      "metadata": {
        "execution": {
          "iopub.execute_input": "2022-09-25T07:13:21.037071Z",
          "iopub.status.busy": "2022-09-25T07:13:21.036804Z",
          "iopub.status.idle": "2022-09-25T07:13:21.044573Z",
          "shell.execute_reply": "2022-09-25T07:13:21.043648Z"
        },
        "id": "d0229484",
        "papermill": {
          "duration": 0.021826,
          "end_time": "2022-09-25T07:13:21.046817",
          "exception": false,
          "start_time": "2022-09-25T07:13:21.024991",
          "status": "completed"
        },
        "tags": []
      },
      "outputs": [],
      "source": [
        "class Transformer(tf.keras.Model):\n",
        "    def __init__(self,\n",
        "               *,\n",
        "               num_layers, # Number of decoder layers.\n",
        "               d_model, # Input/output dimensionality.\n",
        "               num_attention_heads,\n",
        "               dff, # Inner-layer dimensionality.\n",
        "               input_vocab_size, # Input (Portuguese) vocabulary size.\n",
        "               target_vocab_size, # Target (English) vocabulary size.\n",
        "               dropout_rate=0.1\n",
        "               ):\n",
        "        super().__init__()\n",
        "        # The encoder.\n",
        "        self.encoder = Encoder(\n",
        "            num_layers=num_layers,\n",
        "            d_model=d_model,\n",
        "            num_attention_heads=num_attention_heads,\n",
        "            dff=dff,\n",
        "            input_vocab_size=input_vocab_size,\n",
        "            dropout_rate=dropout_rate\n",
        "            )\n",
        "\n",
        "        # The decoder.\n",
        "        self.decoder = Decoder(\n",
        "            num_layers=num_layers,\n",
        "            d_model=d_model,\n",
        "            num_attention_heads=num_attention_heads,\n",
        "            dff=dff,\n",
        "            target_vocab_size=target_vocab_size,\n",
        "            dropout_rate=dropout_rate\n",
        "            )\n",
        "\n",
        "        # The final linear layer.\n",
        "        self.final_layer = tf.keras.layers.Dense(target_vocab_size)\n",
        "\n",
        "    def call(self, inputs, training):\n",
        "        # Keras models prefer if you pass all your inputs in the first argument.\n",
        "        # Portuguese is used as the input (`inp`) language.\n",
        "        # English is the target (`tar`) language.\n",
        "        inp, tar = inputs\n",
        "\n",
        "        # The encoder output.\n",
        "        enc_output = self.encoder(inp, training)  # `(batch_size, inp_seq_len, d_model)`\n",
        "        enc_mask = self.encoder.compute_mask(inp)\n",
        "\n",
        "        # The decoder output.\n",
        "        dec_output, attention_weights = self.decoder(\n",
        "            tar, enc_output, enc_mask, training)  # `(batch_size, tar_seq_len, d_model)`\n",
        "\n",
        "        # The final linear layer output.\n",
        "        final_output = self.final_layer(dec_output)  # Shape `(batch_size, tar_seq_len, target_vocab_size)`.\n",
        "\n",
        "        # Return the final output and the attention weights.\n",
        "        return final_output#, attention_weights"
      ]
    },
    {
      "cell_type": "markdown",
      "id": "85035118",
      "metadata": {
        "id": "85035118",
        "papermill": {
          "duration": 0.010413,
          "end_time": "2022-09-25T07:13:21.067771",
          "exception": false,
          "start_time": "2022-09-25T07:13:21.057358",
          "status": "completed"
        },
        "tags": []
      },
      "source": [
        "## Combine all layer and training"
      ]
    },
    {
      "cell_type": "code",
      "execution_count": null,
      "id": "8a8773b3",
      "metadata": {
        "execution": {
          "iopub.execute_input": "2022-09-25T07:13:21.090517Z",
          "iopub.status.busy": "2022-09-25T07:13:21.090240Z",
          "iopub.status.idle": "2022-09-25T07:13:21.097159Z",
          "shell.execute_reply": "2022-09-25T07:13:21.096057Z"
        },
        "id": "8a8773b3",
        "papermill": {
          "duration": 0.020406,
          "end_time": "2022-09-25T07:13:21.099116",
          "exception": false,
          "start_time": "2022-09-25T07:13:21.078710",
          "status": "completed"
        },
        "tags": []
      },
      "outputs": [],
      "source": [
        "class CustomSchedule(tf.keras.optimizers.schedules.LearningRateSchedule):\n",
        "    def __init__(self, d_model, warmup_steps=4000):\n",
        "        super().__init__()\n",
        "\n",
        "        self.d_model = d_model\n",
        "        self.d_model = tf.cast(self.d_model, tf.float32)\n",
        "\n",
        "        self.warmup_steps = warmup_steps\n",
        "\n",
        "    def __call__(self, step):\n",
        "        arg1 = tf.math.rsqrt(tf.cast(step, dtype=tf.float32))\n",
        "        arg2 = tf.cast(step, dtype=tf.float32) * (self.warmup_steps ** -1.5)\n",
        "\n",
        "        return tf.math.rsqrt(self.d_model) * tf.math.minimum(arg1, arg2)"
      ]
    },
    {
      "cell_type": "code",
      "execution_count": null,
      "id": "26a4646a",
      "metadata": {
        "execution": {
          "iopub.execute_input": "2022-09-25T07:13:21.121811Z",
          "iopub.status.busy": "2022-09-25T07:13:21.121275Z",
          "iopub.status.idle": "2022-09-25T07:13:21.128348Z",
          "shell.execute_reply": "2022-09-25T07:13:21.127528Z"
        },
        "id": "26a4646a",
        "papermill": {
          "duration": 0.02049,
          "end_time": "2022-09-25T07:13:21.130278",
          "exception": false,
          "start_time": "2022-09-25T07:13:21.109788",
          "status": "completed"
        },
        "tags": []
      },
      "outputs": [],
      "source": [
        "learning_rate = CustomSchedule(d_model)\n",
        "\n",
        "optimizer = tf.keras.optimizers.Adam(learning_rate, beta_1=0.9, beta_2=0.98,\n",
        "                                     epsilon=1e-9)"
      ]
    },
    {
      "cell_type": "code",
      "execution_count": null,
      "id": "335f567b",
      "metadata": {
        "execution": {
          "iopub.execute_input": "2022-09-25T07:13:21.153627Z",
          "iopub.status.busy": "2022-09-25T07:13:21.152216Z",
          "iopub.status.idle": "2022-09-25T07:13:21.635962Z",
          "shell.execute_reply": "2022-09-25T07:13:21.634439Z"
        },
        "id": "335f567b",
        "outputId": "970c597d-5b46-4002-a2cb-6b85191f73ac",
        "papermill": {
          "duration": 0.497379,
          "end_time": "2022-09-25T07:13:21.638194",
          "exception": false,
          "start_time": "2022-09-25T07:13:21.140815",
          "status": "completed"
        },
        "tags": []
      },
      "outputs": [
        {
          "data": {
            "text/plain": [
              "Text(0.5, 0, 'Train Step')"
            ]
          },
          "execution_count": 30,
          "metadata": {},
          "output_type": "execute_result"
        },
        {
          "data": {
            "image/png": "[encoded data removed]",
            "text/plain": [
              "<Figure size 432x288 with 1 Axes>"
            ]
          },
          "metadata": {
            "needs_background": "light"
          },
          "output_type": "display_data"
        }
      ],
      "source": [
        "temp_learning_rate_schedule = CustomSchedule(d_model)\n",
        "\n",
        "plt.plot(temp_learning_rate_schedule(tf.range(40000, dtype=tf.float32)))\n",
        "plt.ylabel('Learning Rate')\n",
        "plt.xlabel('Train Step')"
      ]
    },
    {
      "cell_type": "code",
      "execution_count": null,
      "id": "c636ee9e",
      "metadata": {
        "execution": {
          "iopub.execute_input": "2022-09-25T07:13:21.663124Z",
          "iopub.status.busy": "2022-09-25T07:13:21.662268Z",
          "iopub.status.idle": "2022-09-25T07:13:23.693440Z",
          "shell.execute_reply": "2022-09-25T07:13:23.692687Z"
        },
        "id": "c636ee9e",
        "outputId": "f4fb0916-173f-478f-f1bb-246850205257",
        "papermill": {
          "duration": 2.053339,
          "end_time": "2022-09-25T07:13:23.703099",
          "exception": false,
          "start_time": "2022-09-25T07:13:21.649760",
          "status": "completed"
        },
        "tags": []
      },
      "outputs": [
        {
          "name": "stdout",
          "output_type": "stream",
          "text": [
            "Model: \"model\"\n",
            "__________________________________________________________________________________________________\n",
            " Layer (type)                   Output Shape         Param #     Connected to                     \n",
            "==================================================================================================\n",
            " input_1 (InputLayer)           [(None, 32)]         0           []                               \n",
            "                                                                                                  \n",
            " input_2 (InputLayer)           [(None, 32)]         0           []                               \n",
            "                                                                                                  \n",
            " encoder_1 (Encoder)            (None, 32, 128)      9585664     ['input_1[0][0]']                \n",
            "                                                                                                  \n",
            " tf.math.not_equal (TFOpLambda)  (None, 32)          0           ['input_1[0][0]']                \n",
            "                                                                                                  \n",
            " decoder (Decoder)              ((None, 32, 128),    6305536     ['input_2[0][0]',                \n",
            "                                 {'decoder_layer1_b               'encoder_1[0][0]',              \n",
            "                                lock1': (None, 8, 3               'tf.math.not_equal[0][0]']      \n",
            "                                2, 32),                                                           \n",
            "                                 'decoder_layer1_bl                                               \n",
            "                                ock2': (None, 8, 32                                               \n",
            "                                , 32),                                                            \n",
            "                                 'decoder_layer2_bl                                               \n",
            "                                ock1': (None, 8, 32                                               \n",
            "                                , 32),                                                            \n",
            "                                 'decoder_layer2_bl                                               \n",
            "                                ock2': (None, 8, 32                                               \n",
            "                                , 32),                                                            \n",
            "                                 'decoder_layer3_bl                                               \n",
            "                                ock1': (None, 8, 32                                               \n",
            "                                , 32),                                                            \n",
            "                                 'decoder_layer3_bl                                               \n",
            "                                ock2': (None, 8, 32                                               \n",
            "                                , 32),                                                            \n",
            "                                 'decoder_layer4_bl                                               \n",
            "                                ock1': (None, 8, 32                                               \n",
            "                                , 32),                                                            \n",
            "                                 'decoder_layer4_bl                                               \n",
            "                                ock2': (None, 8, 32                                               \n",
            "                                , 32)})                                                           \n",
            "                                                                                                  \n",
            " dense_26 (Dense)               (None, 32, 12154)    1567866     ['decoder[0][0]']                \n",
            "                                                                                                  \n",
            "==================================================================================================\n",
            "Total params: 17,459,066\n",
            "Trainable params: 17,459,066\n",
            "Non-trainable params: 0\n",
            "__________________________________________________________________________________________________\n"
          ]
        }
      ],
      "source": [
        "encoder_input = layers.Input(\n",
        "    shape = (max_token_length)\n",
        ")\n",
        "encoder = Encoder(\n",
        "            num_layers = num_layers,\n",
        "            d_model = d_model,\n",
        "            num_attention_heads = num_attention_heads,\n",
        "            dff = dff,\n",
        "            input_vocab_size = len(tokenized_input.word_index)+1,\n",
        "            dropout_rate = dropout_rate\n",
        "        )\n",
        "enc_output = encoder(encoder_input, True)  # Shape `(batch_size, inp_seq_len, d_model)`\n",
        "enc_mask = encoder.compute_mask(encoder_input)\n",
        "\n",
        "decoder_input = layers.Input(\n",
        "    shape = (max_token_length)\n",
        ")\n",
        "decoder = Decoder(\n",
        "            num_layers = num_layers,\n",
        "            d_model = d_model,\n",
        "            num_attention_heads = num_attention_heads,\n",
        "            dff = dff,\n",
        "            target_vocab_size = len(tokenized_output.word_index)+1,\n",
        "            dropout_rate = dropout_rate\n",
        "        )\n",
        "# The decoder output.\n",
        "dec_output, attention_weights = decoder(\n",
        "    decoder_input, enc_output, enc_mask, True)  # Shape `(batch_size, tar_seq_len, d_model)`\n",
        "\n",
        "# The final linear layer output.\n",
        "final_output = layers.Dense(\n",
        "    len(tokenized_output.word_index)+1,\n",
        "    # activation = \"softmax\"\n",
        ")(dec_output)\n",
        "\n",
        "model = Model(\n",
        "    inputs = [encoder_input, decoder_input],\n",
        "    outputs = final_output\n",
        ")\n",
        "model.summary()"
      ]
    },
    {
      "cell_type": "code",
      "execution_count": null,
      "id": "39fa89dc",
      "metadata": {
        "execution": {
          "iopub.execute_input": "2022-09-25T07:13:23.731340Z",
          "iopub.status.busy": "2022-09-25T07:13:23.731047Z",
          "iopub.status.idle": "2022-09-25T07:13:23.757768Z",
          "shell.execute_reply": "2022-09-25T07:13:23.756898Z"
        },
        "id": "39fa89dc",
        "papermill": {
          "duration": 0.04301,
          "end_time": "2022-09-25T07:13:23.759634",
          "exception": false,
          "start_time": "2022-09-25T07:13:23.716624",
          "status": "completed"
        },
        "tags": []
      },
      "outputs": [],
      "source": [
        "from datetime import datetime\n",
        "model_save = \"/kaggle/working/transformer_hcm_1m.h5\"\n",
        "log_dir = '/kaggle/working/logs/fit/' + datetime.now().strftime('%Y%m%d-%H%M%S')\n",
        "tensorboard_callback = tf.keras.callbacks.TensorBoard(log_dir=log_dir, histogram_freq=1)\n",
        "\n",
        "callbacks = [\n",
        "    tf.keras.callbacks.ModelCheckpoint(\n",
        "        filepath = model_save,\n",
        "        save_best_only = True,\n",
        "        mode = \"min\",\n",
        "        save_weights_only = True\n",
        "    ),\n",
        "    tf.keras.callbacks.EarlyStopping(\n",
        "        monitor = \"val_loss\",\n",
        "        patience = 5,\n",
        "        verbose = 1,\n",
        "        min_delta = .0001\n",
        "    ),\n",
        "    tensorboard_callback\n",
        "]\n",
        "loss_object = tf.keras.losses.SparseCategoricalCrossentropy(\n",
        "    from_logits=True, reduction='none')\n",
        "def loss_function(real, pred):\n",
        "    mask = tf.math.logical_not(tf.math.equal(real, 0))\n",
        "    loss_ = loss_object(real, pred)\n",
        "\n",
        "    mask = tf.cast(mask, dtype=loss_.dtype)\n",
        "    loss_ *= mask\n",
        "\n",
        "    return tf.reduce_sum(loss_)/tf.reduce_sum(mask)\n",
        "def accuracy_function(real, pred):\n",
        "    accuracies = tf.equal(tf.cast(real,dtype=tf.int64), tf.argmax(pred, axis=2))\n",
        "\n",
        "    mask = tf.math.logical_not(tf.math.equal(real, 0))\n",
        "    accuracies = tf.math.logical_and(mask, accuracies)\n",
        "\n",
        "    accuracies = tf.cast(accuracies, dtype=tf.float32)\n",
        "    mask = tf.cast(mask, dtype=tf.float32)\n",
        "    return tf.reduce_sum(accuracies)/tf.reduce_sum(mask)\n",
        "model.compile(\n",
        "    optimizer = optimizer,\n",
        "    loss = loss_function,\n",
        "    metrics = [accuracy_function, \"accuracy\"]\n",
        ")\n",
        "\n",
        "train_steps = train_dataloader.__len__()\n",
        "val_steps = val_dataloader.__len__()"
      ]
    },
    {
      "cell_type": "code",
      "execution_count": null,
      "id": "8d05723c",
      "metadata": {
        "execution": {
          "iopub.execute_input": "2022-09-25T07:13:23.787287Z",
          "iopub.status.busy": "2022-09-25T07:13:23.787004Z",
          "iopub.status.idle": "2022-09-25T10:14:39.696014Z",
          "shell.execute_reply": "2022-09-25T10:14:39.695091Z"
        },
        "id": "8d05723c",
        "outputId": "a1701752-aaac-4ca4-b095-b3dbbdcd6343",
        "papermill": {
          "duration": 10877.221678,
          "end_time": "2022-09-25T10:14:40.994664",
          "exception": false,
          "start_time": "2022-09-25T07:13:23.772986",
          "status": "completed"
        },
        "tags": []
      },
      "outputs": [
        {
          "name": "stdout",
          "output_type": "stream",
          "text": [
            "Epoch 1/100\n"
          ]
        },
        {
          "name": "stderr",
          "output_type": "stream",
          "text": [
            "/opt/conda/lib/python3.7/site-packages/keras/engine/functional.py:1563: CustomMaskWarning: Custom mask layers require a config and must override get_config. When loading, the custom mask layer must be passed to the custom_objects argument.\n",
            "  layer_config = serialize_layer_fn(layer)\n"
          ]
        },
        {
          "name": "stdout",
          "output_type": "stream",
          "text": [
            "1757/1757 [==============================] - ETA: 0s - loss: 2.1840 - accuracy_function: 0.8068 - accuracy: 0.3667"
          ]
        },
        {
          "name": "stderr",
          "output_type": "stream",
          "text": [
            "2022-09-25 07:27:23.346798: W tensorflow/core/framework/cpu_allocator_impl.cc:82] Allocation of 1667235840 exceeds 10% of free system memory.\n",
            "2022-09-25 07:27:25.840208: W tensorflow/core/framework/cpu_allocator_impl.cc:82] Allocation of 373370880 exceeds 10% of free system memory.\n",
            "2022-09-25 07:27:27.201245: W tensorflow/core/framework/cpu_allocator_impl.cc:82] Allocation of 373370880 exceeds 10% of free system memory.\n"
          ]
        },
        {
          "name": "stdout",
          "output_type": "stream",
          "text": [
            "1757/1757 [==============================] - 844s 474ms/step - loss: 2.1840 - accuracy_function: 0.8068 - accuracy: 0.3667 - val_loss: 0.1575 - val_accuracy_function: 0.9776 - val_accuracy: 0.4444\n",
            "Epoch 2/100\n",
            "1757/1757 [==============================] - ETA: 0s - loss: 0.0785 - accuracy_function: 0.9882 - accuracy: 0.4492"
          ]
        },
        {
          "name": "stderr",
          "output_type": "stream",
          "text": [
            "2022-09-25 07:41:14.598290: W tensorflow/core/framework/cpu_allocator_impl.cc:82] Allocation of 1667235840 exceeds 10% of free system memory.\n",
            "2022-09-25 07:41:16.915443: W tensorflow/core/framework/cpu_allocator_impl.cc:82] Allocation of 373370880 exceeds 10% of free system memory.\n"
          ]
        },
        {
          "name": "stdout",
          "output_type": "stream",
          "text": [
            "1757/1757 [==============================] - 831s 473ms/step - loss: 0.0785 - accuracy_function: 0.9882 - accuracy: 0.4492 - val_loss: 0.0464 - val_accuracy_function: 0.9929 - val_accuracy: 0.4514\n",
            "Epoch 3/100\n",
            "1757/1757 [==============================] - 830s 473ms/step - loss: 0.0346 - accuracy_function: 0.9939 - accuracy: 0.4517 - val_loss: 0.0411 - val_accuracy_function: 0.9938 - val_accuracy: 0.4518\n",
            "Epoch 4/100\n",
            "1757/1757 [==============================] - 831s 473ms/step - loss: 0.0256 - accuracy_function: 0.9952 - accuracy: 0.4523 - val_loss: 0.0361 - val_accuracy_function: 0.9945 - val_accuracy: 0.4521\n",
            "Epoch 5/100\n",
            "1757/1757 [==============================] - 831s 473ms/step - loss: 0.0212 - accuracy_function: 0.9961 - accuracy: 0.4528 - val_loss: 0.0357 - val_accuracy_function: 0.9946 - val_accuracy: 0.4522\n",
            "Epoch 6/100\n",
            "1757/1757 [==============================] - 831s 473ms/step - loss: 0.0189 - accuracy_function: 0.9965 - accuracy: 0.4530 - val_loss: 0.0355 - val_accuracy_function: 0.9947 - val_accuracy: 0.4522\n",
            "Epoch 7/100\n",
            "1757/1757 [==============================] - 831s 473ms/step - loss: 0.0175 - accuracy_function: 0.9968 - accuracy: 0.4531 - val_loss: 0.0343 - val_accuracy_function: 0.9950 - val_accuracy: 0.4523\n",
            "Epoch 8/100\n",
            "1757/1757 [==============================] - 831s 473ms/step - loss: 0.0168 - accuracy_function: 0.9970 - accuracy: 0.4532 - val_loss: 0.0340 - val_accuracy_function: 0.9950 - val_accuracy: 0.4523\n",
            "Epoch 9/100\n",
            "1757/1757 [==============================] - 831s 473ms/step - loss: 0.0163 - accuracy_function: 0.9971 - accuracy: 0.4532 - val_loss: 0.0346 - val_accuracy_function: 0.9951 - val_accuracy: 0.4524\n",
            "Epoch 10/100\n",
            "1757/1757 [==============================] - 831s 473ms/step - loss: 0.0158 - accuracy_function: 0.9971 - accuracy: 0.4532 - val_loss: 0.0350 - val_accuracy_function: 0.9952 - val_accuracy: 0.4524\n",
            "Epoch 11/100\n",
            "1757/1757 [==============================] - 830s 472ms/step - loss: 0.0154 - accuracy_function: 0.9972 - accuracy: 0.4533 - val_loss: 0.0343 - val_accuracy_function: 0.9950 - val_accuracy: 0.4523\n",
            "Epoch 12/100\n",
            "1757/1757 [==============================] - 830s 472ms/step - loss: 0.0150 - accuracy_function: 0.9973 - accuracy: 0.4533 - val_loss: 0.0341 - val_accuracy_function: 0.9952 - val_accuracy: 0.4524\n",
            "Epoch 13/100\n",
            "1757/1757 [==============================] - 830s 473ms/step - loss: 0.0148 - accuracy_function: 0.9973 - accuracy: 0.4533 - val_loss: 0.0351 - val_accuracy_function: 0.9950 - val_accuracy: 0.4523\n",
            "Epoch 13: early stopping\n"
          ]
        }
      ],
      "source": [
        "hist = model.fit(\n",
        "    train_dataloader,\n",
        "    steps_per_epoch = train_steps,\n",
        "    epochs = 100,\n",
        "    validation_data = val_dataloader,\n",
        "    validation_steps = val_steps,\n",
        "    callbacks = callbacks\n",
        ")"
      ]
    },
    {
      "cell_type": "code",
      "execution_count": null,
      "id": "dab8cbcf",
      "metadata": {
        "execution": {
          "iopub.execute_input": "2022-09-25T10:14:43.504242Z",
          "iopub.status.busy": "2022-09-25T10:14:43.503874Z",
          "iopub.status.idle": "2022-09-25T10:15:24.559242Z",
          "shell.execute_reply": "2022-09-25T10:15:24.558322Z"
        },
        "id": "dab8cbcf",
        "papermill": {
          "duration": 43.562486,
          "end_time": "2022-09-25T10:15:25.771034",
          "exception": false,
          "start_time": "2022-09-25T10:14:42.208548",
          "status": "completed"
        },
        "tags": [],
        "outputId": "bbe07b0d-7cf1-4fe7-9e0f-84c028e83b1c"
      },
      "outputs": [
        {
          "name": "stdout",
          "output_type": "stream",
          "text": [
            "97/97 [==============================] - 22s 221ms/step - loss: 0.0360 - accuracy_function: 0.9949 - accuracy: 0.4522\n"
          ]
        },
        {
          "data": {
            "text/plain": [
              "[0.03603358939290047, 0.9949320554733276, 0.45221325755119324]"
            ]
          },
          "execution_count": 34,
          "metadata": {},
          "output_type": "execute_result"
        }
      ],
      "source": [
        "model.evaluate(test_dataloader)"
      ]
    },
    {
      "cell_type": "code",
      "execution_count": null,
      "id": "06ee959f",
      "metadata": {
        "execution": {
          "iopub.execute_input": "2022-09-25T10:15:28.346466Z",
          "iopub.status.busy": "2022-09-25T10:15:28.346092Z",
          "iopub.status.idle": "2022-09-25T10:15:28.538329Z",
          "shell.execute_reply": "2022-09-25T10:15:28.537328Z"
        },
        "id": "06ee959f",
        "papermill": {
          "duration": 1.485949,
          "end_time": "2022-09-25T10:15:28.540739",
          "exception": false,
          "start_time": "2022-09-25T10:15:27.054790",
          "status": "completed"
        },
        "tags": [],
        "outputId": "bcae3d01-cd91-49f6-e713-3a5871ebf889"
      },
      "outputs": [
        {
          "data": {
            "image/png": "[encoded data removed]",
            "text/plain": [
              "<Figure size 432x288 with 1 Axes>"
            ]
          },
          "metadata": {
            "needs_background": "light"
          },
          "output_type": "display_data"
        }
      ],
      "source": [
        "plt.plot(hist.history[\"loss\"])\n",
        "plt.plot(hist.history[\"val_loss\"])\n",
        "plt.title(\"Model loss\")\n",
        "plt.xlabel(\"Epoch\")\n",
        "plt.ylabel(\"Loss\")\n",
        "plt.legend([\"train\", \"test\"], loc = \"upper right\")\n",
        "plt.show()"
      ]
    },
    {
      "cell_type": "code",
      "execution_count": null,
      "id": "c268719d",
      "metadata": {
        "execution": {
          "iopub.execute_input": "2022-09-25T10:15:31.323578Z",
          "iopub.status.busy": "2022-09-25T10:15:31.323223Z",
          "iopub.status.idle": "2022-09-25T10:15:31.512314Z",
          "shell.execute_reply": "2022-09-25T10:15:31.511431Z"
        },
        "papermill": {
          "duration": 1.594393,
          "end_time": "2022-09-25T10:15:31.514561",
          "exception": false,
          "start_time": "2022-09-25T10:15:29.920168",
          "status": "completed"
        },
        "tags": [],
        "id": "c268719d",
        "outputId": "1199f637-969e-420a-cd49-ec791257c89a"
      },
      "outputs": [
        {
          "data": {
            "image/png": "[encoded data removed]",
            "text/plain": [
              "<Figure size 432x288 with 1 Axes>"
            ]
          },
          "metadata": {
            "needs_background": "light"
          },
          "output_type": "display_data"
        }
      ],
      "source": [
        "plt.plot(hist.history[\"accuracy\"])\n",
        "plt.plot(hist.history[\"val_accuracy\"])\n",
        "plt.title(\"Model accuracy\")\n",
        "plt.xlabel(\"Epoch\")\n",
        "plt.ylabel(\"Accuracy\")\n",
        "plt.legend([\"train\", \"test\"], loc = \"lower right\")\n",
        "plt.show()"
      ]
    },
    {
      "cell_type": "code",
      "execution_count": null,
      "id": "2744400d",
      "metadata": {
        "execution": {
          "iopub.execute_input": "2022-09-25T10:15:34.024326Z",
          "iopub.status.busy": "2022-09-25T10:15:34.023965Z",
          "iopub.status.idle": "2022-09-25T10:15:34.227744Z",
          "shell.execute_reply": "2022-09-25T10:15:34.226849Z"
        },
        "id": "2744400d",
        "papermill": {
          "duration": 1.418231,
          "end_time": "2022-09-25T10:15:34.229947",
          "exception": false,
          "start_time": "2022-09-25T10:15:32.811716",
          "status": "completed"
        },
        "tags": [],
        "outputId": "380af096-e636-4617-e1a6-7df685fab5df"
      },
      "outputs": [
        {
          "data": {
            "image/png": "[encoded data removed]",
            "text/plain": [
              "<Figure size 432x288 with 1 Axes>"
            ]
          },
          "metadata": {
            "needs_background": "light"
          },
          "output_type": "display_data"
        }
      ],
      "source": [
        "plt.plot(hist.history[\"accuracy_function\"])\n",
        "plt.plot(hist.history[\"val_accuracy_function\"])\n",
        "plt.title(\"Model accuracy\")\n",
        "plt.xlabel(\"Epoch\")\n",
        "plt.ylabel(\"Accuracy\")\n",
        "plt.legend([\"train\", \"test\"], loc = \"lower right\")\n",
        "plt.show()"
      ]
    },
    {
      "cell_type": "markdown",
      "id": "5c9c5f5e",
      "metadata": {
        "id": "5c9c5f5e",
        "papermill": {
          "duration": 1.311962,
          "end_time": "2022-09-25T10:15:36.823949",
          "exception": false,
          "start_time": "2022-09-25T10:15:35.511987",
          "status": "completed"
        },
        "tags": []
      },
      "source": [
        "## Predict some input"
      ]
    },
    {
      "cell_type": "code",
      "execution_count": null,
      "id": "0b45cc37",
      "metadata": {
        "execution": {
          "iopub.execute_input": "2022-09-25T10:15:39.333555Z",
          "iopub.status.busy": "2022-09-25T10:15:39.333171Z",
          "iopub.status.idle": "2022-09-25T10:15:39.344287Z",
          "shell.execute_reply": "2022-09-25T10:15:39.343256Z"
        },
        "id": "0b45cc37",
        "papermill": {
          "duration": 1.306014,
          "end_time": "2022-09-25T10:15:39.346864",
          "exception": false,
          "start_time": "2022-09-25T10:15:38.040850",
          "status": "completed"
        },
        "tags": []
      },
      "outputs": [],
      "source": [
        "class Translator(tf.Module):\n",
        "    def __init__(self, tokenized_input, tokenized_output, transformer):\n",
        "        self.tokenized_input = tokenized_input\n",
        "        self.tokenized_output = tokenized_output\n",
        "        self.transformer = transformer\n",
        "\n",
        "    def __call__(self, sentence, max_length=max_token_length):\n",
        "        # The input sentence is Portuguese, hence adding the `[START]` and `[END]` tokens.\n",
        "#         assert isinstance(sentence, tf.Tensor)\n",
        "#         if len(sentence.shape) == 0:\n",
        "#             sentence = sentence[tf.newaxis]\n",
        "        sequence = tokenized_input.texts_to_sequences(['<s> '+sentence+' <e>'])\n",
        "\n",
        "        encoder_input = pad_sequences(\n",
        "            sequence,\n",
        "            maxlen = max_length,\n",
        "            padding = \"post\"\n",
        "        )\n",
        "        predict_sequence = []\n",
        "#         sentence = self.tokenizers.pt.tokenize(sentence).to_tensor()\n",
        "\n",
        "#         encoder_input = sentence\n",
        "\n",
        "        # As the output language is English, initialize the output with the\n",
        "        # English `[START]` token.\n",
        "#         start_end = self.tokenizers.en.tokenize([''])[0]\n",
        "#         start = start_end[0][tf.newaxis]\n",
        "#         end = start_end[1][tf.newaxis]\n",
        "        start = tokenized_output.texts_to_sequences(['<s>'])[0]\n",
        "        end = tokenized_output.texts_to_sequences(['<e>'])[0]\n",
        "\n",
        "        # `tf.TensorArray` is required here (instead of a Python list), so that the\n",
        "        # dynamic-loop can be traced by `tf.function`.\n",
        "        output_array = tf.TensorArray(dtype=tf.int64, size=0, dynamic_size=True)\n",
        "        output_array = output_array.write(0, start)\n",
        "\n",
        "        for i in tf.range(max_length):\n",
        "            output = tf.transpose(output_array.stack())\n",
        "#             predictions, _ = self.transformer([encoder_input, output], training=False)\n",
        "            enc_output = self.transformer.layers[2](encoder_input,training = False)\n",
        "            enc_mask = self.transformer.layers[2].compute_mask(encoder_input)\n",
        "            \n",
        "            dec_output, attention_weights = self.transformer.layers[4](\n",
        "                    output, enc_output, enc_mask, False)\n",
        "            \n",
        "            predictions = self.transformer.layers[5](dec_output)\n",
        "            # Select the last token from the `seq_len` dimension.\n",
        "            predictions = predictions[:, -1:, :]  # Shape `(batch_size, 1, vocab_size)`.\n",
        "\n",
        "            predicted_id = tf.argmax(predictions, axis=-1)\n",
        "\n",
        "            # Concatenate the `predicted_id` to the output which is given to the\n",
        "            # decoder as its input.\n",
        "            output_array = output_array.write(i+1, predicted_id[0])\n",
        "\n",
        "#             if predicted_id == end:\n",
        "#                 break\n",
        "            predict_sequence.append(tokenized_output.index_word[predicted_id.numpy()[0][0]])\n",
        "\n",
        "            if tokenized_output.index_word[predicted_id.numpy()[0][0]] == end_token:\n",
        "                break\n",
        "\n",
        "        return ' '.join(predict_sequence)"
      ]
    },
    {
      "cell_type": "code",
      "execution_count": null,
      "id": "ab03db57",
      "metadata": {
        "execution": {
          "iopub.execute_input": "2022-09-25T10:15:42.118095Z",
          "iopub.status.busy": "2022-09-25T10:15:42.117738Z",
          "iopub.status.idle": "2022-09-25T10:15:43.811694Z",
          "shell.execute_reply": "2022-09-25T10:15:43.810668Z"
        },
        "id": "ab03db57",
        "papermill": {
          "duration": 3.095412,
          "end_time": "2022-09-25T10:15:43.814202",
          "exception": false,
          "start_time": "2022-09-25T10:15:40.718790",
          "status": "completed"
        },
        "tags": [],
        "outputId": "e39642cc-c37b-46be-ed74-a7e8e6270b82"
      },
      "outputs": [
        {
          "data": {
            "text/plain": [
              "'42 số 1 phường tân kiểng quận 7 tp. hồ chí minh <e>'"
            ]
          },
          "execution_count": 39,
          "metadata": {},
          "output_type": "execute_result"
        }
      ],
      "source": [
        "translator = Translator(tokenized_input,tokenized_output,model)\n",
        "translator('huynh tan phat')"
      ]
    },
    {
      "cell_type": "code",
      "execution_count": null,
      "id": "711082aa",
      "metadata": {
        "execution": {
          "iopub.execute_input": "2022-09-25T10:15:46.374716Z",
          "iopub.status.busy": "2022-09-25T10:15:46.373667Z",
          "iopub.status.idle": "2022-09-25T10:15:47.901008Z",
          "shell.execute_reply": "2022-09-25T10:15:47.900101Z"
        },
        "id": "711082aa",
        "papermill": {
          "duration": 2.794885,
          "end_time": "2022-09-25T10:15:47.903190",
          "exception": false,
          "start_time": "2022-09-25T10:15:45.108305",
          "status": "completed"
        },
        "tags": [],
        "outputId": "9c941029-209a-47b5-962c-46ab70e48277"
      },
      "outputs": [
        {
          "data": {
            "text/plain": [
              "'2 số 1 phường phú mỹ quận 7 tp. hồ chí minh <e>'"
            ]
          },
          "execution_count": 40,
          "metadata": {},
          "output_type": "execute_result"
        }
      ],
      "source": [
        "translator('huyen cu chi')\n"
      ]
    },
    {
      "cell_type": "code",
      "execution_count": null,
      "id": "a161561e",
      "metadata": {
        "execution": {
          "iopub.execute_input": "2022-09-25T10:15:50.493305Z",
          "iopub.status.busy": "2022-09-25T10:15:50.492939Z",
          "iopub.status.idle": "2022-09-25T10:15:52.319303Z",
          "shell.execute_reply": "2022-09-25T10:15:52.318431Z"
        },
        "papermill": {
          "duration": 3.119746,
          "end_time": "2022-09-25T10:15:52.321511",
          "exception": false,
          "start_time": "2022-09-25T10:15:49.201765",
          "status": "completed"
        },
        "tags": [],
        "id": "a161561e",
        "outputId": "62922b24-f99a-4839-a6c3-e5993fb386f1"
      },
      "outputs": [
        {
          "data": {
            "text/plain": [
              "'văn khạ xã tân an hội huyện củ chi tp. hồ chí minh <e>'"
            ]
          },
          "execution_count": 41,
          "metadata": {},
          "output_type": "execute_result"
        }
      ],
      "source": [
        "translator('nguyen van kha')"
      ]
    },
    {
      "cell_type": "raw",
      "id": "56e39556",
      "metadata": {
        "papermill": {
          "duration": 1.795245,
          "end_time": "2022-09-25T10:15:55.376842",
          "exception": false,
          "start_time": "2022-09-25T10:15:53.581597",
          "status": "completed"
        },
        "tags": [],
        "id": "56e39556"
      },
      "source": []
    }
  ],
  "metadata": {
    "kernelspec": {
      "display_name": "Python 3",
      "language": "python",
      "name": "python3"
    },
    "language_info": {
      "codemirror_mode": {
        "name": "ipython",
        "version": 3
      },
      "file_extension": ".py",
      "mimetype": "text/x-python",
      "name": "python",
      "nbconvert_exporter": "python",
      "pygments_lexer": "ipython3",
      "version": "3.7.12"
    },
    "papermill": {
      "default_parameters": {},
      "duration": 11095.561779,
      "end_time": "2022-09-25T10:15:59.734089",
      "environment_variables": {},
      "exception": null,
      "input_path": "__notebook__.ipynb",
      "output_path": "__notebook__.ipynb",
      "parameters": {},
      "start_time": "2022-09-25T07:11:04.172310",
      "version": "2.3.4"
    },
    "colab": {
      "provenance": [],
      "include_colab_link": true
    }
  },
  "nbformat": 4,
  "nbformat_minor": 5
}